{
 "cells": [
  {
   "cell_type": "markdown",
   "metadata": {},
   "source": [
    "# Collaborative filtering explained using Amazon Reviews dataset"
   ]
  },
  {
   "cell_type": "code",
   "execution_count": 2,
   "metadata": {
    "collapsed": false
   },
   "outputs": [
    {
     "name": "stderr",
     "output_type": "stream",
     "text": [
      "/Library/Python/2.7/site-packages/matplotlib/__init__.py:872: UserWarning: axes.color_cycle is deprecated and replaced with axes.prop_cycle; please use the latter.\n",
      "  warnings.warn(self.msg_depr % (key, alt_key))\n"
     ]
    }
   ],
   "source": [
    "import os\n",
    "import pandas as pd\n",
    "import math\n",
    "import matplotlib.pyplot as plt\n",
    "import scipy.stats as stats\n",
    "import sqlite3\n",
    "import numpy as np\n",
    "import seaborn as sns; sns.set(style=\"white\", color_codes=True)\n",
    "import warnings \n",
    "%matplotlib inline\n",
    "warnings.filterwarnings(\"ignore\")"
   ]
  },
  {
   "cell_type": "code",
   "execution_count": 3,
   "metadata": {
    "collapsed": true
   },
   "outputs": [],
   "source": [
    "import pandas as pd\n",
    "import gzip\n",
    "\n",
    "def parse(path):\n",
    "  g = gzip.open(path, 'rb')\n",
    "  for l in g:\n",
    "    yield eval(l)\n",
    "\n",
    "def getDF(path):\n",
    "  i = 0\n",
    "  df = {}\n",
    "  for d in parse(path):\n",
    "    df[i] = d\n",
    "    i += 1\n",
    "  return pd.DataFrame.from_dict(df, orient='index')\n",
    "\n",
    "df = getDF('reviews_Grocery_and_Gourmet_Food_5.json.gz')\n"
   ]
  },
  {
   "cell_type": "code",
   "execution_count": 33,
   "metadata": {
    "collapsed": false
   },
   "outputs": [
    {
     "data": {
      "text/html": [
       "<div>\n",
       "<table border=\"1\" class=\"dataframe\">\n",
       "  <thead>\n",
       "    <tr style=\"text-align: right;\">\n",
       "      <th></th>\n",
       "      <th>reviewerID</th>\n",
       "      <th>product</th>\n",
       "      <th>reviewerName</th>\n",
       "      <th>helpful</th>\n",
       "      <th>ReviewTime</th>\n",
       "      <th>reviewText</th>\n",
       "      <th>overall</th>\n",
       "      <th>reviewTime</th>\n",
       "      <th>summary</th>\n",
       "    </tr>\n",
       "  </thead>\n",
       "  <tbody>\n",
       "    <tr>\n",
       "      <th>0</th>\n",
       "      <td>A1VEELTKS8NLZB</td>\n",
       "      <td>616719923X</td>\n",
       "      <td>Amazon Customer</td>\n",
       "      <td>[0, 0]</td>\n",
       "      <td>2013-06-01</td>\n",
       "      <td>Just another flavor of Kit Kat but the taste i...</td>\n",
       "      <td>4.0</td>\n",
       "      <td>06 1, 2013</td>\n",
       "      <td>Good Taste</td>\n",
       "    </tr>\n",
       "    <tr>\n",
       "      <th>1</th>\n",
       "      <td>A14R9XMZVJ6INB</td>\n",
       "      <td>616719923X</td>\n",
       "      <td>amf0001</td>\n",
       "      <td>[0, 1]</td>\n",
       "      <td>2014-05-19</td>\n",
       "      <td>I bought this on impulse and it comes from Jap...</td>\n",
       "      <td>3.0</td>\n",
       "      <td>05 19, 2014</td>\n",
       "      <td>3.5 stars,  sadly not as wonderful as I had hoped</td>\n",
       "    </tr>\n",
       "    <tr>\n",
       "      <th>2</th>\n",
       "      <td>A27IQHDZFQFNGG</td>\n",
       "      <td>616719923X</td>\n",
       "      <td>Caitlin</td>\n",
       "      <td>[3, 4]</td>\n",
       "      <td>2013-10-08</td>\n",
       "      <td>Really good. Great gift for any fan of green t...</td>\n",
       "      <td>4.0</td>\n",
       "      <td>10 8, 2013</td>\n",
       "      <td>Yum!</td>\n",
       "    </tr>\n",
       "    <tr>\n",
       "      <th>3</th>\n",
       "      <td>A31QY5TASILE89</td>\n",
       "      <td>616719923X</td>\n",
       "      <td>DebraDownSth</td>\n",
       "      <td>[0, 0]</td>\n",
       "      <td>2013-05-20</td>\n",
       "      <td>I had never had it before, was curious to see ...</td>\n",
       "      <td>5.0</td>\n",
       "      <td>05 20, 2013</td>\n",
       "      <td>Unexpected flavor meld</td>\n",
       "    </tr>\n",
       "    <tr>\n",
       "      <th>4</th>\n",
       "      <td>A2LWK003FFMCI5</td>\n",
       "      <td>616719923X</td>\n",
       "      <td>Diana X.</td>\n",
       "      <td>[1, 2]</td>\n",
       "      <td>2013-05-26</td>\n",
       "      <td>I've been looking forward to trying these afte...</td>\n",
       "      <td>4.0</td>\n",
       "      <td>05 26, 2013</td>\n",
       "      <td>Not a very strong tea flavor, but still yummy ...</td>\n",
       "    </tr>\n",
       "  </tbody>\n",
       "</table>\n",
       "</div>"
      ],
      "text/plain": [
       "       reviewerID     product     reviewerName helpful ReviewTime  \\\n",
       "0  A1VEELTKS8NLZB  616719923X  Amazon Customer  [0, 0] 2013-06-01   \n",
       "1  A14R9XMZVJ6INB  616719923X          amf0001  [0, 1] 2014-05-19   \n",
       "2  A27IQHDZFQFNGG  616719923X          Caitlin  [3, 4] 2013-10-08   \n",
       "3  A31QY5TASILE89  616719923X     DebraDownSth  [0, 0] 2013-05-20   \n",
       "4  A2LWK003FFMCI5  616719923X         Diana X.  [1, 2] 2013-05-26   \n",
       "\n",
       "                                          reviewText  overall   reviewTime  \\\n",
       "0  Just another flavor of Kit Kat but the taste i...      4.0   06 1, 2013   \n",
       "1  I bought this on impulse and it comes from Jap...      3.0  05 19, 2014   \n",
       "2  Really good. Great gift for any fan of green t...      4.0   10 8, 2013   \n",
       "3  I had never had it before, was curious to see ...      5.0  05 20, 2013   \n",
       "4  I've been looking forward to trying these afte...      4.0  05 26, 2013   \n",
       "\n",
       "                                             summary  \n",
       "0                                         Good Taste  \n",
       "1  3.5 stars,  sadly not as wonderful as I had hoped  \n",
       "2                                               Yum!  \n",
       "3                             Unexpected flavor meld  \n",
       "4  Not a very strong tea flavor, but still yummy ...  "
      ]
     },
     "execution_count": 33,
     "metadata": {},
     "output_type": "execute_result"
    }
   ],
   "source": [
    "df['unixReviewTime'] = pd.to_datetime(df['unixReviewTime'],unit='s')\n",
    "df.rename(columns={'unixReviewTime': 'ReviewTime', 'asin': 'product'}, inplace=True)\n",
    "df.drop('reviewTime',1)\n",
    "df.head()"
   ]
  },
  {
   "cell_type": "code",
   "execution_count": 8,
   "metadata": {
    "collapsed": false
   },
   "outputs": [
    {
     "data": {
      "image/png": "[encoded data removed]",
      "text/plain": [
       "<matplotlib.figure.Figure at 0x10b0e7a10>"
      ]
     },
     "metadata": {},
     "output_type": "display_data"
    }
   ],
   "source": [
    "d = df.groupby(['reviewerID'])\n",
    "ax = d['asin'].count().hist(bins=xrange(0, 200, 1))\n",
    "plt.xlabel('Number of ratings per user', size=15)\n",
    "plt.ylabel('# of users');"
   ]
  },
  {
   "cell_type": "code",
   "execution_count": 45,
   "metadata": {
    "collapsed": false
   },
   "outputs": [
    {
     "name": "stdout",
     "output_type": "stream",
     "text": [
      "Number of unique products = 8713\n",
      "Number of unique users = 14681\n",
      "Number of ratings = 151254\n"
     ]
    }
   ],
   "source": [
    "number_of_unique_users = len(df['asin'].unique())\n",
    "number_of_unique_products = len(df['reviewerID'].unique())\n",
    "number_of_ratings = len(df)\n",
    "print \"Number of unique products =\", number_of_unique_users\n",
    "print \"Number of unique users =\", number_of_unique_movies\n",
    "print \"Number of ratings =\", number_of_ratings"
   ]
  },
  {
   "cell_type": "code",
   "execution_count": 33,
   "metadata": {
    "collapsed": false
   },
   "outputs": [
    {
     "name": "stdout",
     "output_type": "stream",
     "text": [
      "Mean rating = 4.24304150634\n"
     ]
    },
    {
     "data": {
      "image/png": "[encoded data removed]",
      "text/plain": [
       "<matplotlib.figure.Figure at 0x10b4af510>"
      ]
     },
     "metadata": {},
     "output_type": "display_data"
    }
   ],
   "source": [
    "fig = plt.figure(figsize=(6,5))\n",
    "ax = fig.add_subplot(111)\n",
    "ax.hist(df['overall'], bins=[0.9, 1.1, 1.9, 2.1, 2.9, 3.1, 3.9, 4.1, 4.9, 5.1])\n",
    "ax.set_xlabel('product rating', fontsize=15)\n",
    "\n",
    "mean_rating = df['overall'].mean()\n",
    "print \"Mean rating =\", mean_rating"
   ]
  },
  {
   "cell_type": "markdown",
   "metadata": {},
   "source": [
    "Looks like the distribution is highly skewed towards very positive reviews, which is a well known effect with ratings - unless the customer is highly dissatisfied with a product they will give it a \"5\"."
   ]
  },
  {
   "cell_type": "code",
   "execution_count": 38,
   "metadata": {
    "collapsed": false
   },
   "outputs": [
    {
     "data": {
      "text/plain": [
       "<matplotlib.text.Text at 0x1136ea750>"
      ]
     },
     "execution_count": 38,
     "metadata": {},
     "output_type": "execute_result"
    },
    {
     "data": {
      "image/png": "[encoded data removed]",
      "text/plain": [
       "<matplotlib.figure.Figure at 0x111b934d0>"
      ]
     },
     "metadata": {},
     "output_type": "display_data"
    }
   ],
   "source": [
    "# mean ratings from each user\n",
    "mean_rating_of_user = df.groupby('reviewerID').apply(lambda x: x['overall'].mean())\n",
    "\n",
    "fig = plt.figure(figsize=(6,5))\n",
    "ax = fig.add_subplot(111)\n",
    "ax.hist(mean_rating_of_user)\n",
    "ax.set_xlabel('mean rating given by each user', fontsize=15)"
   ]
  },
  {
   "cell_type": "code",
   "execution_count": 9,
   "metadata": {
    "collapsed": false
   },
   "outputs": [],
   "source": [
    "test_data = df.groupby('reviewerID', as_index=False).apply(lambda x: x.loc[np.random.choice(x.index, 1, replace=False),:])"
   ]
  },
  {
   "cell_type": "code",
   "execution_count": 13,
   "metadata": {
    "collapsed": false
   },
   "outputs": [],
   "source": [
    "l1 = [x[1] for x in test_data.index.tolist()]\n"
   ]
  },
  {
   "cell_type": "code",
   "execution_count": 14,
   "metadata": {
    "collapsed": true
   },
   "outputs": [],
   "source": [
    "train_data = df.drop(df.index[l1]).dropna()"
   ]
  },
  {
   "cell_type": "code",
   "execution_count": 25,
   "metadata": {
    "collapsed": false
   },
   "outputs": [
    {
     "data": {
      "text/plain": [
       "Index([u'reviewerID', u'asin', u'reviewerName', u'helpful', u'unixReviewTime',\n",
       "       u'reviewText', u'overall', u'reviewTime', u'summary'],\n",
       "      dtype='object')"
      ]
     },
     "execution_count": 25,
     "metadata": {},
     "output_type": "execute_result"
    }
   ],
   "source": [
    "train_data.columns"
   ]
  },
  {
   "cell_type": "code",
   "execution_count": 35,
   "metadata": {
    "collapsed": false
   },
   "outputs": [],
   "source": [
    "train_data['reviewerID'] = train_data['reviewerID'].astype(\"category\")\n",
    "train_data['product'] = train_data['product'].astype(\"category\")"
   ]
  },
  {
   "cell_type": "code",
   "execution_count": 39,
   "metadata": {
    "collapsed": true
   },
   "outputs": [],
   "source": [
    "from scipy.sparse import csc_matrix"
   ]
  },
  {
   "cell_type": "code",
   "execution_count": 69,
   "metadata": {
    "collapsed": false
   },
   "outputs": [
    {
     "name": "stdout",
     "output_type": "stream",
     "text": [
      "Unique users: 14679\n",
      "Unique products: 8711\n"
     ]
    }
   ],
   "source": [
    "print \"Unique users: %s\" % (len(train_data['reviewerID'].unique()))\n",
    "print \"Unique products: %s\" % (len(train_data['product'].unique()))\n",
    " \n",
    "# create a sparse matrix of all the artist/user/play triples\n",
    "reviews_matrix = csc_matrix((train_data['overall'].astype(float), \n",
    "                   (train_data['product'].cat.codes, \n",
    "                    train_data['reviewerID'].cat.codes)))  "
   ]
  },
  {
   "cell_type": "markdown",
   "metadata": {},
   "source": [
    "# Most basic recommendation: mean rating [benchmark]\n",
    "\n",
    "In order to see how good our recommendations are we first need to have a benchmark to which we can compare their results. Comparing it against zero would not be appropriate here, since it is not the most common rating as we saw in the histogram above. The most common rating would be the median, which in the case of this particular dataset is different from the mean:\n"
   ]
  },
  {
   "cell_type": "code",
   "execution_count": 67,
   "metadata": {
    "collapsed": false
   },
   "outputs": [
    {
     "name": "stdout",
     "output_type": "stream",
     "text": [
      "Mean rating = 4.24041121219\n",
      "Median rating = 5.0\n"
     ]
    }
   ],
   "source": [
    "mean_rating_ = train_data['overall'].mean()\n",
    "median_rating_ = train_data['overall'].median()\n",
    "print \"Mean rating =\", mean_rating_\n",
    "print \"Median rating =\", median_rating_"
   ]
  },
  {
   "cell_type": "markdown",
   "metadata": {},
   "source": [
    "The distribution of ratings is highly skewed to the right. Most users when asked to rate the item give it the maximum rating, which is an interesting psychological phenomenon. Apparently, maximum rating is the baseline from which users diverge only when there is something clearly wrong with the product. Taking this into account when relying on statistics which require a normal distribution is essential. For this reason, when designing a survey, one might choose to scale the possible range of responses such that the baseline is 0 by asking participants to give an answer from -2 (negative feedback) to 2 (positive feedback). But this is not the place to elaborate on that. If interested, read more about the issues around Likert scale in psychometrics:-)."
   ]
  },
  {
   "cell_type": "code",
   "execution_count": 68,
   "metadata": {
    "collapsed": false
   },
   "outputs": [
    {
     "name": "stdout",
     "output_type": "stream",
     "text": [
      "Mean rating of the training set = 4.24041121219\n",
      "Maximum root-mean-square error = 1.09\n"
     ]
    }
   ],
   "source": [
    "mean_rating_train = train_data['overall'].mean()\n",
    "print \"Mean rating of the training set =\", mean_rating_train\n",
    "rmse_benchmark = np.sqrt(pow(train_data['overall']-mean_rating_train, 2).mean())\n",
    "print \"Maximum root-mean-square error = {:4.2f}\".format(rmse_benchmark)"
   ]
  },
  {
   "cell_type": "code",
   "execution_count": 70,
   "metadata": {
    "collapsed": false
   },
   "outputs": [
    {
     "data": {
      "text/plain": [
       "(8711, 8711)"
      ]
     },
     "execution_count": 70,
     "metadata": {},
     "output_type": "execute_result"
    }
   ],
   "source": [
    "from sklearn.metrics.pairwise import cosine_similarity\n",
    "\n",
    "# Calculate the similarity score between users\n",
    "user_user_similarity = cosine_similarity(reviews_matrix)\n",
    "user_user_similarity.shape"
   ]
  },
  {
   "cell_type": "code",
   "execution_count": 141,
   "metadata": {
    "collapsed": false
   },
   "outputs": [
    {
     "data": {
      "text/plain": [
       "3.0"
      ]
     },
     "execution_count": 141,
     "metadata": {},
     "output_type": "execute_result"
    }
   ],
   "source": [
    "reviews_matrix[0,527]"
   ]
  },
  {
   "cell_type": "code",
   "execution_count": null,
   "metadata": {
    "collapsed": false
   },
   "outputs": [
    {
     "name": "stdout",
     "output_type": "stream",
     "text": [
      "Mean square error from cosine similarity is  1.20764126138\n",
      "Benchmark is  1.08822147012\n"
     ]
    }
   ],
   "source": [
    "sqdiffs = 0\n",
    "num_preds = 0\n",
    "cnt_no_other_ratings = 0\n",
    "\n",
    "# for each user\n",
    "for user_i, non_zero_entries in enumerate(reviews_matrix[0:1000,:]):\n",
    "\n",
    "    for product in non_zero_entries.indices:\n",
    "        \n",
    "        # all users that have rated imovie (includes user of interest)\n",
    "        i_has_rated =  reviews_matrix[:,product].indices\n",
    "        \n",
    "        # remove the current user \n",
    "        iremove = np.argmin(abs(i_has_rated - user_i)) \n",
    "        i_others_have_rated = np.delete(i_has_rated, iremove)\n",
    "        \n",
    "        # find most similar user that has also rated imovie to current user\n",
    "        i_most_sim = np.argmax(user_user_similarity[user_i, i_others_have_rated])\n",
    "        \n",
    "        # prediction error\n",
    "        predicted_rating = reviews_matrix[i_others_have_rated[i_most_sim], product]\n",
    "        \n",
    "        actual_rating = reviews_matrix[user_i, product]\n",
    "        \n",
    "        sqdiffs += pow(predicted_rating-actual_rating, 2.)\n",
    "        num_preds += 1\n",
    "        \n",
    "rmse_cossim = np.sqrt(sqdiffs/num_preds)   \n",
    "print \"Mean square error from cosine similarity is \", str(rmse_cossim)\n",
    "print \"Benchmark is \", str(rmse_benchmark)"
   ]
  },
  {
   "cell_type": "code",
   "execution_count": 187,
   "metadata": {
    "collapsed": false
   },
   "outputs": [],
   "source": [
    "r = np.array([1, 2, 0, 0, 3])"
   ]
  }
 ],
 "metadata": {
  "kernelspec": {
   "display_name": "Python 2",
   "language": "python",
   "name": "python2"
  },
  "language_info": {
   "codemirror_mode": {
    "name": "ipython",
    "version": 2
   },
   "file_extension": ".py",
   "mimetype": "text/x-python",
   "name": "python",
   "nbconvert_exporter": "python",
   "pygments_lexer": "ipython2",
   "version": "2.7.10"
  }
 },
 "nbformat": 4,
 "nbformat_minor": 0
}
