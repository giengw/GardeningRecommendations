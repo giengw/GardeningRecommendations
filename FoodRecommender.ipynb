{
 "cells": [
  {
   "cell_type": "markdown",
   "metadata": {},
   "source": [
    "# Collaborative filtering explained using Amazon Reviews dataset"
   ]
  },
  {
   "cell_type": "code",
   "execution_count": 27,
   "metadata": {
    "collapsed": false
   },
   "outputs": [],
   "source": [
    "import os\n",
    "import pandas as pd\n",
    "import math\n",
    "import matplotlib.pyplot as plt\n",
    "import scipy.stats as stats\n",
    "from scipy.sparse import csc_matrix\n",
    "from sklearn.metrics.pairwise import cosine_similarity\n",
    "import sqlite3\n",
    "import numpy as np\n",
    "import seaborn as sns; sns.set(style=\"white\", color_codes=True)\n",
    "import warnings \n",
    "%matplotlib inline\n",
    "warnings.filterwarnings(\"ignore\")"
   ]
  },
  {
   "cell_type": "code",
   "execution_count": 3,
   "metadata": {
    "collapsed": true
   },
   "outputs": [],
   "source": [
    "import pandas as pd\n",
    "import gzip\n",
    "\n",
    "def parse(path):\n",
    "  g = gzip.open(path, 'rb')\n",
    "  for l in g:\n",
    "    yield eval(l)\n",
    "\n",
    "def getDF(path):\n",
    "  i = 0\n",
    "  df = {}\n",
    "  for d in parse(path):\n",
    "    df[i] = d\n",
    "    i += 1\n",
    "  return pd.DataFrame.from_dict(df, orient='index')\n",
    "\n",
    "df = getDF('reviews_Grocery_and_Gourmet_Food_5.json.gz')\n"
   ]
  },
  {
   "cell_type": "code",
   "execution_count": 4,
   "metadata": {
    "collapsed": false
   },
   "outputs": [
    {
     "data": {
      "text/html": [
       "<div>\n",
       "<table border=\"1\" class=\"dataframe\">\n",
       "  <thead>\n",
       "    <tr style=\"text-align: right;\">\n",
       "      <th></th>\n",
       "      <th>reviewerID</th>\n",
       "      <th>product</th>\n",
       "      <th>reviewerName</th>\n",
       "      <th>helpful</th>\n",
       "      <th>ReviewTime</th>\n",
       "      <th>reviewText</th>\n",
       "      <th>overall</th>\n",
       "      <th>reviewTime</th>\n",
       "      <th>summary</th>\n",
       "    </tr>\n",
       "  </thead>\n",
       "  <tbody>\n",
       "    <tr>\n",
       "      <th>0</th>\n",
       "      <td>A1VEELTKS8NLZB</td>\n",
       "      <td>616719923X</td>\n",
       "      <td>Amazon Customer</td>\n",
       "      <td>[0, 0]</td>\n",
       "      <td>2013-06-01</td>\n",
       "      <td>Just another flavor of Kit Kat but the taste i...</td>\n",
       "      <td>4.0</td>\n",
       "      <td>06 1, 2013</td>\n",
       "      <td>Good Taste</td>\n",
       "    </tr>\n",
       "    <tr>\n",
       "      <th>1</th>\n",
       "      <td>A14R9XMZVJ6INB</td>\n",
       "      <td>616719923X</td>\n",
       "      <td>amf0001</td>\n",
       "      <td>[0, 1]</td>\n",
       "      <td>2014-05-19</td>\n",
       "      <td>I bought this on impulse and it comes from Jap...</td>\n",
       "      <td>3.0</td>\n",
       "      <td>05 19, 2014</td>\n",
       "      <td>3.5 stars,  sadly not as wonderful as I had hoped</td>\n",
       "    </tr>\n",
       "    <tr>\n",
       "      <th>2</th>\n",
       "      <td>A27IQHDZFQFNGG</td>\n",
       "      <td>616719923X</td>\n",
       "      <td>Caitlin</td>\n",
       "      <td>[3, 4]</td>\n",
       "      <td>2013-10-08</td>\n",
       "      <td>Really good. Great gift for any fan of green t...</td>\n",
       "      <td>4.0</td>\n",
       "      <td>10 8, 2013</td>\n",
       "      <td>Yum!</td>\n",
       "    </tr>\n",
       "    <tr>\n",
       "      <th>3</th>\n",
       "      <td>A31QY5TASILE89</td>\n",
       "      <td>616719923X</td>\n",
       "      <td>DebraDownSth</td>\n",
       "      <td>[0, 0]</td>\n",
       "      <td>2013-05-20</td>\n",
       "      <td>I had never had it before, was curious to see ...</td>\n",
       "      <td>5.0</td>\n",
       "      <td>05 20, 2013</td>\n",
       "      <td>Unexpected flavor meld</td>\n",
       "    </tr>\n",
       "    <tr>\n",
       "      <th>4</th>\n",
       "      <td>A2LWK003FFMCI5</td>\n",
       "      <td>616719923X</td>\n",
       "      <td>Diana X.</td>\n",
       "      <td>[1, 2]</td>\n",
       "      <td>2013-05-26</td>\n",
       "      <td>I've been looking forward to trying these afte...</td>\n",
       "      <td>4.0</td>\n",
       "      <td>05 26, 2013</td>\n",
       "      <td>Not a very strong tea flavor, but still yummy ...</td>\n",
       "    </tr>\n",
       "  </tbody>\n",
       "</table>\n",
       "</div>"
      ],
      "text/plain": [
       "       reviewerID     product     reviewerName helpful ReviewTime  \\\n",
       "0  A1VEELTKS8NLZB  616719923X  Amazon Customer  [0, 0] 2013-06-01   \n",
       "1  A14R9XMZVJ6INB  616719923X          amf0001  [0, 1] 2014-05-19   \n",
       "2  A27IQHDZFQFNGG  616719923X          Caitlin  [3, 4] 2013-10-08   \n",
       "3  A31QY5TASILE89  616719923X     DebraDownSth  [0, 0] 2013-05-20   \n",
       "4  A2LWK003FFMCI5  616719923X         Diana X.  [1, 2] 2013-05-26   \n",
       "\n",
       "                                          reviewText  overall   reviewTime  \\\n",
       "0  Just another flavor of Kit Kat but the taste i...      4.0   06 1, 2013   \n",
       "1  I bought this on impulse and it comes from Jap...      3.0  05 19, 2014   \n",
       "2  Really good. Great gift for any fan of green t...      4.0   10 8, 2013   \n",
       "3  I had never had it before, was curious to see ...      5.0  05 20, 2013   \n",
       "4  I've been looking forward to trying these afte...      4.0  05 26, 2013   \n",
       "\n",
       "                                             summary  \n",
       "0                                         Good Taste  \n",
       "1  3.5 stars,  sadly not as wonderful as I had hoped  \n",
       "2                                               Yum!  \n",
       "3                             Unexpected flavor meld  \n",
       "4  Not a very strong tea flavor, but still yummy ...  "
      ]
     },
     "execution_count": 4,
     "metadata": {},
     "output_type": "execute_result"
    }
   ],
   "source": [
    "df['unixReviewTime'] = pd.to_datetime(df['unixReviewTime'],unit='s')\n",
    "df.rename(columns={'unixReviewTime': 'ReviewTime', 'asin': 'product'}, inplace=True)\n",
    "df.drop('reviewTime',1)\n",
    "df.head()"
   ]
  },
  {
   "cell_type": "code",
   "execution_count": 6,
   "metadata": {
    "collapsed": false
   },
   "outputs": [
    {
     "data": {
      "image/png": "[encoded data removed]",
      "text/plain": [
       "<matplotlib.figure.Figure at 0x11aaa2110>"
      ]
     },
     "metadata": {},
     "output_type": "display_data"
    }
   ],
   "source": [
    "d = df.groupby(['reviewerID'])\n",
    "ax = d['product'].count().hist(bins=xrange(0, 200, 1))\n",
    "plt.xlabel('Number of ratings per user', size=15)\n",
    "plt.ylabel('# of users');"
   ]
  },
  {
   "cell_type": "code",
   "execution_count": 28,
   "metadata": {
    "collapsed": false
   },
   "outputs": [
    {
     "name": "stdout",
     "output_type": "stream",
     "text": [
      "Number of unique products = 14681\n",
      "Number of unique users = 8713\n",
      "Number of ratings = 151254\n"
     ]
    }
   ],
   "source": [
    "number_of_unique_users = len(df['product'].unique())\n",
    "number_of_unique_products = len(df['reviewerID'].unique())\n",
    "number_of_ratings = len(df)\n",
    "print \"Number of unique products =\", number_of_unique_products\n",
    "print \"Number of unique users =\", number_of_unique_users\n",
    "print \"Number of ratings =\", number_of_ratings"
   ]
  },
  {
   "cell_type": "code",
   "execution_count": 10,
   "metadata": {
    "collapsed": false
   },
   "outputs": [
    {
     "name": "stdout",
     "output_type": "stream",
     "text": [
      "Mean rating = 4.24304150634\n"
     ]
    },
    {
     "data": {
      "image/png": "[encoded data removed]",
      "text/plain": [
       "<matplotlib.figure.Figure at 0x11ae1f850>"
      ]
     },
     "metadata": {},
     "output_type": "display_data"
    }
   ],
   "source": [
    "fig = plt.figure(figsize=(6,5))\n",
    "ax = fig.add_subplot(111)\n",
    "ax.hist(df['overall'], bins=[0.9, 1.1, 1.9, 2.1, 2.9, 3.1, 3.9, 4.1, 4.9, 5.1])\n",
    "ax.set_xlabel('product rating', fontsize=15)\n",
    "\n",
    "mean_rating = df['overall'].mean()\n",
    "print \"Mean rating =\", mean_rating"
   ]
  },
  {
   "cell_type": "markdown",
   "metadata": {},
   "source": [
    "Looks like the distribution is highly skewed towards very positive reviews, which is a well known effect with ratings - unless the customer is highly dissatisfied with a product they will give it a \"5\"."
   ]
  },
  {
   "cell_type": "code",
   "execution_count": 11,
   "metadata": {
    "collapsed": false
   },
   "outputs": [
    {
     "data": {
      "text/plain": [
       "<matplotlib.text.Text at 0x11d08bf10>"
      ]
     },
     "execution_count": 11,
     "metadata": {},
     "output_type": "execute_result"
    },
    {
     "data": {
      "image/png": "[encoded data removed]",
      "text/plain": [
       "<matplotlib.figure.Figure at 0x11c2d4dd0>"
      ]
     },
     "metadata": {},
     "output_type": "display_data"
    }
   ],
   "source": [
    "# mean ratings from each user\n",
    "mean_rating_of_user = df.groupby('reviewerID').apply(lambda x: x['overall'].mean())\n",
    "\n",
    "fig = plt.figure(figsize=(6,5))\n",
    "ax = fig.add_subplot(111)\n",
    "ax.hist(mean_rating_of_user)\n",
    "ax.set_xlabel('mean rating given by each user', fontsize=15)"
   ]
  },
  {
   "cell_type": "code",
   "execution_count": 12,
   "metadata": {
    "collapsed": false
   },
   "outputs": [],
   "source": [
    "test_data = df.groupby('reviewerID', as_index=False).apply(lambda x: x.loc[np.random.choice(x.index, 1, replace=False),:])"
   ]
  },
  {
   "cell_type": "code",
   "execution_count": 13,
   "metadata": {
    "collapsed": false
   },
   "outputs": [],
   "source": [
    "l1 = [x[1] for x in test_data.index.tolist()]\n"
   ]
  },
  {
   "cell_type": "code",
   "execution_count": 14,
   "metadata": {
    "collapsed": true
   },
   "outputs": [],
   "source": [
    "train_data = df.drop(df.index[l1]).dropna()"
   ]
  },
  {
   "cell_type": "code",
   "execution_count": 15,
   "metadata": {
    "collapsed": false
   },
   "outputs": [],
   "source": [
    "train_data['reviewerID'] = train_data['reviewerID'].astype(\"category\")\n",
    "train_data['product'] = train_data['product'].astype(\"category\")"
   ]
  },
  {
   "cell_type": "code",
   "execution_count": 18,
   "metadata": {
    "collapsed": false
   },
   "outputs": [
    {
     "name": "stdout",
     "output_type": "stream",
     "text": [
      "Unique users: 14678\n",
      "Unique products: 8711\n"
     ]
    }
   ],
   "source": [
    "print \"Unique users: %s\" % (len(train_data['reviewerID'].unique()))\n",
    "print \"Unique products: %s\" % (len(train_data['product'].unique()))\n",
    " \n",
    "# create a sparse matrix of all the artist/user/play triples\n",
    "reviews_matrix = csc_matrix((train_data['overall'].astype(float), \n",
    "                   (train_data['product'].cat.codes, \n",
    "                    train_data['reviewerID'].cat.codes)))  "
   ]
  },
  {
   "cell_type": "markdown",
   "metadata": {},
   "source": [
    "# Most basic recommendation: mean rating [benchmark]\n",
    "\n",
    "In order to see how good our recommendations are we first need to have a benchmark to which we can compare their results. Comparing it against zero would not be appropriate here, since it is not the most common rating as we saw in the histogram above. The most common rating would be the median, which in the case of this particular dataset is different from the mean:\n"
   ]
  },
  {
   "cell_type": "code",
   "execution_count": 23,
   "metadata": {
    "collapsed": false
   },
   "outputs": [
    {
     "name": "stdout",
     "output_type": "stream",
     "text": [
      "Mean rating = 4.24258311642\n",
      "Median rating = 5.0\n"
     ]
    }
   ],
   "source": [
    "mean_rating_train = train_data['overall'].mean()\n",
    "median_rating_train = train_data['overall'].median()\n",
    "print \"Mean rating =\", mean_rating_\n",
    "print \"Median rating =\", median_rating_"
   ]
  },
  {
   "cell_type": "markdown",
   "metadata": {},
   "source": [
    "The distribution of ratings is highly skewed to the right. Most users when asked to rate the item give it the maximum rating, which is an interesting psychological phenomenon. Apparently, maximum rating is the baseline from which users diverge only when there is something clearly wrong with the product. Taking this into account when relying on statistics which require a normal distribution is essential. For this reason, when designing a survey, one might choose to scale the possible range of responses such that the baseline is 0 by asking participants to give an answer from -2 (negative feedback) to 2 (positive feedback). But this is not the place to elaborate on that. If interested, read more about the issues around Likert scale in psychometrics:-)."
   ]
  },
  {
   "cell_type": "code",
   "execution_count": 31,
   "metadata": {
    "collapsed": false
   },
   "outputs": [
    {
     "name": "stdout",
     "output_type": "stream",
     "text": [
      "Root-mean-square error = 1.09\n"
     ]
    }
   ],
   "source": [
    "rmse_benchmark = np.sqrt(pow(train_data['overall']-mean_rating_train, 2).mean())\n",
    "print \"Root-mean-square error = {:4.2f}\".format(rmse_benchmark)"
   ]
  },
  {
   "cell_type": "markdown",
   "metadata": {},
   "source": [
    "Let's see how the RMSE changes when we use the median instead of the mean:"
   ]
  },
  {
   "cell_type": "code",
   "execution_count": 30,
   "metadata": {
    "collapsed": false
   },
   "outputs": [
    {
     "name": "stdout",
     "output_type": "stream",
     "text": [
      "Root-mean-square error for median = 1.32\n"
     ]
    }
   ],
   "source": [
    "rmse_benchmark_median = np.sqrt(pow(train_data['overall']-median_rating_train, 2).mean())\n",
    "print \"Root-mean-square error for median = {:4.2f}\".format(rmse_benchmark_median)"
   ]
  },
  {
   "cell_type": "markdown",
   "metadata": {},
   "source": [
    "It's actually bigger, so let's stick to the mean."
   ]
  },
  {
   "cell_type": "code",
   "execution_count": 25,
   "metadata": {
    "collapsed": false
   },
   "outputs": [
    {
     "data": {
      "text/plain": [
       "(8711, 8711)"
      ]
     },
     "execution_count": 25,
     "metadata": {},
     "output_type": "execute_result"
    }
   ],
   "source": [
    "# Calculate the similarity score between users\n",
    "user_user_similarity = cosine_similarity(reviews_matrix)\n",
    "user_user_similarity.shape"
   ]
  },
  {
   "cell_type": "code",
   "execution_count": 26,
   "metadata": {
    "collapsed": false
   },
   "outputs": [
    {
     "name": "stdout",
     "output_type": "stream",
     "text": [
      "Failed to predict  3  ratings\n",
      "Mean square error from cosine similarity is  1.22923937415\n",
      "Benchmark is  1.32490601422\n"
     ]
    }
   ],
   "source": [
    "sqdiffs = 0\n",
    "num_preds = 0\n",
    "cnt_no_other_ratings = 0\n",
    "\n",
    "# for each user\n",
    "for user_i, non_zero_entries in enumerate(reviews_matrix):\n",
    "\n",
    "    for product in non_zero_entries.indices:\n",
    "        \n",
    "        # all users that have rated imovie (includes user of interest)\n",
    "        i_has_rated = reviews_matrix[:,product].indices\n",
    "        \n",
    "        # remove the current user \n",
    "        iremove = np.argmin(abs(i_has_rated - user_i)) \n",
    "        i_others_have_rated = np.delete(i_has_rated, iremove)\n",
    "        \n",
    "        try:\n",
    "            # find most similar user that has also rated imovie to current user\n",
    "            i_most_sim = np.argmax(user_user_similarity[user_i, i_others_have_rated])\n",
    "        except:\n",
    "            cnt_no_other_ratings += 1\n",
    "            continue\n",
    "        \n",
    "        # prediction error\n",
    "        predicted_rating = reviews_matrix[i_others_have_rated[i_most_sim], product]\n",
    "        \n",
    "        actual_rating = reviews_matrix[user_i, product]\n",
    "        \n",
    "        sqdiffs += pow(predicted_rating-actual_rating, 2.)\n",
    "        num_preds += 1\n",
    "        \n",
    "rmse_cossim = np.sqrt(sqdiffs/num_preds)   \n",
    "\n",
    "print \"Failed to predict \", cnt_no_other_ratings, \" ratings\"\n",
    "print \"Mean square error from cosine similarity is \", str(rmse_cossim)\n",
    "print \"Benchmark is \", str(rmse_benchmark)"
   ]
  },
  {
   "cell_type": "markdown",
   "metadata": {},
   "source": [
    "# Weighted mean "
   ]
  },
  {
   "cell_type": "code",
   "execution_count": 53,
   "metadata": {
    "collapsed": false
   },
   "outputs": [
    {
     "name": "stdout",
     "output_type": "stream",
     "text": [
      "3 movies had only one user rating\n",
      "Number of predictions made = 135232\n",
      "Root mean square error = 1.03182360221\n"
     ]
    }
   ],
   "source": [
    "sqdiffs = 0\n",
    "num_preds = 0\n",
    "\n",
    "# to protect against divide by zero issues\n",
    "eps = 1e-6\n",
    "\n",
    "cnt_no_sims = 0\n",
    "\n",
    "# for each user\n",
    "for user_i, non_zero_entries in enumerate(reviews_matrix):\n",
    "    \n",
    "    # for each rated movie: find users who HAVE ALSO rated this movie\n",
    "    for product in non_zero_entries.indices:\n",
    "                \n",
    "        # all users that have rated imovie (includes user of interest)\n",
    "        i_has_rated = reviews_matrix[:,product].indices\n",
    "        \n",
    "        # remove the current user \n",
    "        #print i_has_rated, user_i\n",
    "        iremove = np.argmin(abs(i_has_rated - user_i)) \n",
    "        i_others_have_rated = np.delete(i_has_rated, iremove)\n",
    "        \n",
    "        \n",
    "        # rating is weighted sum of all ratings, weights are cosine sims\n",
    "        ratings = reviews_matrix[i_others_have_rated, product]\n",
    "        sims = user_user_similarity[user_i, i_others_have_rated]\n",
    "        \n",
    "        \n",
    "        norm = np.sum(sims)\n",
    "        if norm==0:\n",
    "            cnt_no_sims += 1\n",
    "            norm = eps\n",
    "        \n",
    "        predicted_rating = np.sum(np.multiply(ratings.A.T, sims))/norm\n",
    "        \n",
    "        # prediction error\n",
    "        actual_rating = reviews_matrix[user_i, product]\n",
    "        \n",
    "        sqdiffs += pow(predicted_rating-actual_rating, 2.)\n",
    "        num_preds += 1\n",
    "        \n",
    "\n",
    "rmse_cossim = np.sqrt(sqdiffs/num_preds)\n",
    "\n",
    "print cnt_no_sims, \"movies had only one user rating\" \n",
    "print \"Number of predictions made =\", num_preds\n",
    "print \"Mean root mean square error =\", rmse_cossim"
   ]
  },
  {
   "cell_type": "markdown",
   "metadata": {},
   "source": [
    "Great! Our predictions have improved. Another improvement we could introduce is to take into account only *n* most similar users - then our predictions should be more accurate. This will improve our predictions only for products which have a variety of users rating them (so some of them will be similar to each other, and some will not). On average, however, our predictions should improve."
   ]
  },
  {
   "cell_type": "code",
   "execution_count": 110,
   "metadata": {
    "collapsed": false
   },
   "outputs": [],
   "source": [
    "def rmse_topN(topN):\n",
    "    \"\"\"Return the root-mean-square-error given value topN\n",
    "       for using the 'top N' most similar users in predicting\n",
    "       the rating\n",
    "    \"\"\"\n",
    "    sqdiffs = 0\n",
    "    num_preds = 0\n",
    "\n",
    "    # to protect against divide by zero issues\n",
    "    eps = 1e-6\n",
    "\n",
    "    cnt_no_sims = 0\n",
    "    # for each user\n",
    "    for user_i, non_zero_entries in enumerate(reviews_matrix):\n",
    "\n",
    "        # for each rated movie: find users who HAVE ALSO rated this movie\n",
    "        for product in non_zero_entries.indices:\n",
    "\n",
    "            # all users that have rated imovie (includes user of interest)\n",
    "            i_has_rated = reviews_matrix[:,product].indices\n",
    "\n",
    "            # remove the current user \n",
    "            #print i_has_rated, user_i\n",
    "            iremove = np.argmin(abs(i_has_rated - user_i)) \n",
    "            i_others_have_rated = np.delete(i_has_rated, iremove)\n",
    "\n",
    "\n",
    "            # rating is weighted sum of all ratings, weights are cosine sims\n",
    "            ratings = reviews_matrix[i_others_have_rated, product].A\n",
    "            sims = user_user_similarity[user_i, i_others_have_rated]\n",
    "            \n",
    "            #choose top N most similar users\n",
    "            most_similar_users = sims[np.argsort(sims*-1)][:topN]\n",
    "            most_similar_ratings = ratings[np.argsort(sims*-1)][:topN]\n",
    "\n",
    "\n",
    "            norm = np.sum(most_similar_users)\n",
    "            if norm==0:\n",
    "                cnt_no_sims += 1\n",
    "                norm = eps\n",
    "\n",
    "            predicted_rating = np.sum(np.multiply(most_similar_ratings.T, most_similar_users))/norm\n",
    "\n",
    "            # prediction error\n",
    "            actual_rating = reviews_matrix[user_i, product]\n",
    "\n",
    "            sqdiffs += pow(predicted_rating-actual_rating, 2.)\n",
    "            num_preds += 1\n",
    "\n",
    "\n",
    "    rmse_cossim = np.sqrt(sqdiffs/num_preds)\n",
    "    \n",
    "    print \"Using top\", topN , \"most similar users to predict rating\"\n",
    "    print \"Number of predictions made =\", num_preds\n",
    "    print \"Root mean square error =\", rmse_cossim , '\\n'\n",
    "    return rmse_cossim\n",
    "\n"
   ]
  },
  {
   "cell_type": "code",
   "execution_count": 112,
   "metadata": {
    "collapsed": false
   },
   "outputs": [
    {
     "name": "stdout",
     "output_type": "stream",
     "text": [
      "Using top 2 most similar users to predict rating\n",
      "Number of predictions made = 135232\n",
      "Root mean square error = 1.12168067488 \n",
      "\n",
      "Using top 5 most similar users to predict rating\n",
      "Number of predictions made = 135232\n",
      "Root mean square error = 1.0567853148 \n",
      "\n",
      "Using top 10 most similar users to predict rating\n",
      "Number of predictions made = 135232\n",
      "Root mean square error = 1.03886793899 \n",
      "\n",
      "Using top 20 most similar users to predict rating\n",
      "Number of predictions made = 135232\n",
      "Root mean square error = 1.03366155368 \n",
      "\n",
      "Using top 30 most similar users to predict rating\n",
      "Number of predictions made = 135232\n",
      "Root mean square error = 1.03256664708 \n",
      "\n",
      "Using top 50 most similar users to predict rating\n",
      "Number of predictions made = 135232\n",
      "Root mean square error = 1.03220140086 \n",
      "\n"
     ]
    }
   ],
   "source": [
    "topN_trials = [2, 5, 10, 20, 30, 50]\n",
    "rmse_results = []\n",
    "for topN in topN_trials:\n",
    "    rmse_results.append(rmse_topN(topN))"
   ]
  },
  {
   "cell_type": "code",
   "execution_count": 115,
   "metadata": {
    "collapsed": false
   },
   "outputs": [
    {
     "data": {
      "text/plain": [
       "<matplotlib.legend.Legend at 0x1186e83d0>"
      ]
     },
     "execution_count": 115,
     "metadata": {},
     "output_type": "execute_result"
    },
    {
     "data": {
      "image/png": "[encoded data removed]",
      "text/plain": [
       "<matplotlib.figure.Figure at 0x117341790>"
      ]
     },
     "metadata": {},
     "output_type": "display_data"
    }
   ],
   "source": [
    "fig = plt.figure(figsize=(7,7))\n",
    "ax = fig.add_subplot(111)\n",
    "ax.plot(topN_trials, rmse_results, label='using top N')\n",
    "xlims = ax.get_xlim()\n",
    "ax.plot(xlims, [rmse_benchmark, rmse_benchmark], color='black', \n",
    "        linestyle='dotted', label='benchmark')\n",
    "ax.plot(xlims, [rmse_cossim, rmse_cossim], color='blue', linestyle='dotted',\n",
    "        label='using all')\n",
    "\n",
    "ax.set_xlabel('use top N most similar users', fontsize=15)\n",
    "ax.set_ylabel('RMSE', fontsize=15)\n",
    "handles, labels = ax.get_legend_handles_labels()\n",
    "ax.legend(handles, labels, fontsize=15)"
   ]
  }
 ],
 "metadata": {
  "kernelspec": {
   "display_name": "Python 2",
   "language": "python",
   "name": "python2"
  },
  "language_info": {
   "codemirror_mode": {
    "name": "ipython",
    "version": 2
   },
   "file_extension": ".py",
   "mimetype": "text/x-python",
   "name": "python",
   "nbconvert_exporter": "python",
   "pygments_lexer": "ipython2",
   "version": "2.7.10"
  }
 },
 "nbformat": 4,
 "nbformat_minor": 0
}
