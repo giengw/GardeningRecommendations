{
 "cells": [
  {
   "cell_type": "markdown",
   "metadata": {},
   "source": [
    "# Collaborative filtering explained using Amazon Reviews dataset"
   ]
  },
  {
   "cell_type": "code",
   "execution_count": null,
   "metadata": {
    "collapsed": false
   },
   "outputs": [
    {
     "name": "stderr",
     "output_type": "stream",
     "text": [
      "/Library/Python/2.7/site-packages/matplotlib/__init__.py:872: UserWarning: axes.color_cycle is deprecated and replaced with axes.prop_cycle; please use the latter.\n",
      "  warnings.warn(self.msg_depr % (key, alt_key))\n"
     ]
    }
   ],
   "source": [
    "import os\n",
    "import pandas as pd\n",
    "import math\n",
    "import matplotlib.pyplot as plt\n",
    "import scipy.stats as stats\n",
    "from scipy.sparse import csc_matrix\n",
    "from sklearn.metrics.pairwise import cosine_similarity\n",
    "import sqlite3\n",
    "import numpy as np\n",
    "import seaborn as sns; sns.set(style=\"white\", color_codes=True)\n",
    "import warnings \n",
    "%matplotlib inline\n",
    "warnings.filterwarnings(\"ignore\")"
   ]
  },
  {
   "cell_type": "code",
   "execution_count": null,
   "metadata": {
    "collapsed": true
   },
   "outputs": [],
   "source": [
    "import pandas as pd\n",
    "import gzip\n",
    "\n",
    "def parse(path):\n",
    "  g = gzip.open(path, 'rb')\n",
    "  for l in g:\n",
    "    yield eval(l)\n",
    "\n",
    "def getDF(path):\n",
    "  i = 0\n",
    "  df = {}\n",
    "  for d in parse(path):\n",
    "    df[i] = d\n",
    "    i += 1\n",
    "  return pd.DataFrame.from_dict(df, orient='index')\n",
    "\n",
    "df = getDF('reviews_Grocery_and_Gourmet_Food_5.json.gz')\n"
   ]
  },
  {
   "cell_type": "code",
   "execution_count": 14,
   "metadata": {
    "collapsed": false
   },
   "outputs": [
    {
     "ename": "KeyError",
     "evalue": "'unixReviewTime'",
     "output_type": "error",
     "traceback": [
      "\u001b[0;31m---------------------------------------------------------------------------\u001b[0m",
      "\u001b[0;31mKeyError\u001b[0m                                  Traceback (most recent call last)",
      "\u001b[0;32m<ipython-input-14-9be6f85db219>\u001b[0m in \u001b[0;36m<module>\u001b[0;34m()\u001b[0m\n\u001b[0;32m----> 1\u001b[0;31m \u001b[0mdf\u001b[0m\u001b[0;34m[\u001b[0m\u001b[0;34m'unixReviewTime'\u001b[0m\u001b[0;34m]\u001b[0m \u001b[0;34m=\u001b[0m \u001b[0mpd\u001b[0m\u001b[0;34m.\u001b[0m\u001b[0mto_datetime\u001b[0m\u001b[0;34m(\u001b[0m\u001b[0mdf\u001b[0m\u001b[0;34m[\u001b[0m\u001b[0;34m'unixReviewTime'\u001b[0m\u001b[0;34m]\u001b[0m\u001b[0;34m,\u001b[0m\u001b[0munit\u001b[0m\u001b[0;34m=\u001b[0m\u001b[0;34m's'\u001b[0m\u001b[0;34m)\u001b[0m\u001b[0;34m\u001b[0m\u001b[0m\n\u001b[0m\u001b[1;32m      2\u001b[0m \u001b[0mdf\u001b[0m\u001b[0;34m.\u001b[0m\u001b[0mrename\u001b[0m\u001b[0;34m(\u001b[0m\u001b[0mcolumns\u001b[0m\u001b[0;34m=\u001b[0m\u001b[0;34m{\u001b[0m\u001b[0;34m'unixReviewTime'\u001b[0m\u001b[0;34m:\u001b[0m \u001b[0;34m'ReviewTime'\u001b[0m\u001b[0;34m,\u001b[0m \u001b[0;34m'asin'\u001b[0m\u001b[0;34m:\u001b[0m \u001b[0;34m'product'\u001b[0m\u001b[0;34m}\u001b[0m\u001b[0;34m,\u001b[0m \u001b[0minplace\u001b[0m\u001b[0;34m=\u001b[0m\u001b[0mTrue\u001b[0m\u001b[0;34m)\u001b[0m\u001b[0;34m\u001b[0m\u001b[0m\n\u001b[1;32m      3\u001b[0m \u001b[0mdf\u001b[0m \u001b[0;34m=\u001b[0m \u001b[0mdf\u001b[0m\u001b[0;34m.\u001b[0m\u001b[0mdrop\u001b[0m\u001b[0;34m(\u001b[0m\u001b[0;34m'reviewTime'\u001b[0m\u001b[0;34m,\u001b[0m\u001b[0;36m1\u001b[0m\u001b[0;34m)\u001b[0m\u001b[0;34m\u001b[0m\u001b[0m\n\u001b[1;32m      4\u001b[0m \u001b[0mdf\u001b[0m\u001b[0;34m.\u001b[0m\u001b[0mhead\u001b[0m\u001b[0;34m(\u001b[0m\u001b[0;34m)\u001b[0m\u001b[0;34m\u001b[0m\u001b[0m\n",
      "\u001b[0;32m/Library/Python/2.7/site-packages/pandas/core/frame.pyc\u001b[0m in \u001b[0;36m__getitem__\u001b[0;34m(self, key)\u001b[0m\n\u001b[1;32m   2057\u001b[0m             \u001b[0;32mreturn\u001b[0m \u001b[0mself\u001b[0m\u001b[0;34m.\u001b[0m\u001b[0m_getitem_multilevel\u001b[0m\u001b[0;34m(\u001b[0m\u001b[0mkey\u001b[0m\u001b[0;34m)\u001b[0m\u001b[0;34m\u001b[0m\u001b[0m\n\u001b[1;32m   2058\u001b[0m         \u001b[0;32melse\u001b[0m\u001b[0;34m:\u001b[0m\u001b[0;34m\u001b[0m\u001b[0m\n\u001b[0;32m-> 2059\u001b[0;31m             \u001b[0;32mreturn\u001b[0m \u001b[0mself\u001b[0m\u001b[0;34m.\u001b[0m\u001b[0m_getitem_column\u001b[0m\u001b[0;34m(\u001b[0m\u001b[0mkey\u001b[0m\u001b[0;34m)\u001b[0m\u001b[0;34m\u001b[0m\u001b[0m\n\u001b[0m\u001b[1;32m   2060\u001b[0m \u001b[0;34m\u001b[0m\u001b[0m\n\u001b[1;32m   2061\u001b[0m     \u001b[0;32mdef\u001b[0m \u001b[0m_getitem_column\u001b[0m\u001b[0;34m(\u001b[0m\u001b[0mself\u001b[0m\u001b[0;34m,\u001b[0m \u001b[0mkey\u001b[0m\u001b[0;34m)\u001b[0m\u001b[0;34m:\u001b[0m\u001b[0;34m\u001b[0m\u001b[0m\n",
      "\u001b[0;32m/Library/Python/2.7/site-packages/pandas/core/frame.pyc\u001b[0m in \u001b[0;36m_getitem_column\u001b[0;34m(self, key)\u001b[0m\n\u001b[1;32m   2064\u001b[0m         \u001b[0;31m# get column\u001b[0m\u001b[0;34m\u001b[0m\u001b[0;34m\u001b[0m\u001b[0m\n\u001b[1;32m   2065\u001b[0m         \u001b[0;32mif\u001b[0m \u001b[0mself\u001b[0m\u001b[0;34m.\u001b[0m\u001b[0mcolumns\u001b[0m\u001b[0;34m.\u001b[0m\u001b[0mis_unique\u001b[0m\u001b[0;34m:\u001b[0m\u001b[0;34m\u001b[0m\u001b[0m\n\u001b[0;32m-> 2066\u001b[0;31m             \u001b[0;32mreturn\u001b[0m \u001b[0mself\u001b[0m\u001b[0;34m.\u001b[0m\u001b[0m_get_item_cache\u001b[0m\u001b[0;34m(\u001b[0m\u001b[0mkey\u001b[0m\u001b[0;34m)\u001b[0m\u001b[0;34m\u001b[0m\u001b[0m\n\u001b[0m\u001b[1;32m   2067\u001b[0m \u001b[0;34m\u001b[0m\u001b[0m\n\u001b[1;32m   2068\u001b[0m         \u001b[0;31m# duplicate columns & possible reduce dimensionality\u001b[0m\u001b[0;34m\u001b[0m\u001b[0;34m\u001b[0m\u001b[0m\n",
      "\u001b[0;32m/Library/Python/2.7/site-packages/pandas/core/generic.pyc\u001b[0m in \u001b[0;36m_get_item_cache\u001b[0;34m(self, item)\u001b[0m\n\u001b[1;32m   1384\u001b[0m         \u001b[0mres\u001b[0m \u001b[0;34m=\u001b[0m \u001b[0mcache\u001b[0m\u001b[0;34m.\u001b[0m\u001b[0mget\u001b[0m\u001b[0;34m(\u001b[0m\u001b[0mitem\u001b[0m\u001b[0;34m)\u001b[0m\u001b[0;34m\u001b[0m\u001b[0m\n\u001b[1;32m   1385\u001b[0m         \u001b[0;32mif\u001b[0m \u001b[0mres\u001b[0m \u001b[0;32mis\u001b[0m \u001b[0mNone\u001b[0m\u001b[0;34m:\u001b[0m\u001b[0;34m\u001b[0m\u001b[0m\n\u001b[0;32m-> 1386\u001b[0;31m             \u001b[0mvalues\u001b[0m \u001b[0;34m=\u001b[0m \u001b[0mself\u001b[0m\u001b[0;34m.\u001b[0m\u001b[0m_data\u001b[0m\u001b[0;34m.\u001b[0m\u001b[0mget\u001b[0m\u001b[0;34m(\u001b[0m\u001b[0mitem\u001b[0m\u001b[0;34m)\u001b[0m\u001b[0;34m\u001b[0m\u001b[0m\n\u001b[0m\u001b[1;32m   1387\u001b[0m             \u001b[0mres\u001b[0m \u001b[0;34m=\u001b[0m \u001b[0mself\u001b[0m\u001b[0;34m.\u001b[0m\u001b[0m_box_item_values\u001b[0m\u001b[0;34m(\u001b[0m\u001b[0mitem\u001b[0m\u001b[0;34m,\u001b[0m \u001b[0mvalues\u001b[0m\u001b[0;34m)\u001b[0m\u001b[0;34m\u001b[0m\u001b[0m\n\u001b[1;32m   1388\u001b[0m             \u001b[0mcache\u001b[0m\u001b[0;34m[\u001b[0m\u001b[0mitem\u001b[0m\u001b[0;34m]\u001b[0m \u001b[0;34m=\u001b[0m \u001b[0mres\u001b[0m\u001b[0;34m\u001b[0m\u001b[0m\n",
      "\u001b[0;32m/Library/Python/2.7/site-packages/pandas/core/internals.pyc\u001b[0m in \u001b[0;36mget\u001b[0;34m(self, item, fastpath)\u001b[0m\n\u001b[1;32m   3539\u001b[0m \u001b[0;34m\u001b[0m\u001b[0m\n\u001b[1;32m   3540\u001b[0m             \u001b[0;32mif\u001b[0m \u001b[0;32mnot\u001b[0m \u001b[0misnull\u001b[0m\u001b[0;34m(\u001b[0m\u001b[0mitem\u001b[0m\u001b[0;34m)\u001b[0m\u001b[0;34m:\u001b[0m\u001b[0;34m\u001b[0m\u001b[0m\n\u001b[0;32m-> 3541\u001b[0;31m                 \u001b[0mloc\u001b[0m \u001b[0;34m=\u001b[0m \u001b[0mself\u001b[0m\u001b[0;34m.\u001b[0m\u001b[0mitems\u001b[0m\u001b[0;34m.\u001b[0m\u001b[0mget_loc\u001b[0m\u001b[0;34m(\u001b[0m\u001b[0mitem\u001b[0m\u001b[0;34m)\u001b[0m\u001b[0;34m\u001b[0m\u001b[0m\n\u001b[0m\u001b[1;32m   3542\u001b[0m             \u001b[0;32melse\u001b[0m\u001b[0;34m:\u001b[0m\u001b[0;34m\u001b[0m\u001b[0m\n\u001b[1;32m   3543\u001b[0m                 \u001b[0mindexer\u001b[0m \u001b[0;34m=\u001b[0m \u001b[0mnp\u001b[0m\u001b[0;34m.\u001b[0m\u001b[0marange\u001b[0m\u001b[0;34m(\u001b[0m\u001b[0mlen\u001b[0m\u001b[0;34m(\u001b[0m\u001b[0mself\u001b[0m\u001b[0;34m.\u001b[0m\u001b[0mitems\u001b[0m\u001b[0;34m)\u001b[0m\u001b[0;34m)\u001b[0m\u001b[0;34m[\u001b[0m\u001b[0misnull\u001b[0m\u001b[0;34m(\u001b[0m\u001b[0mself\u001b[0m\u001b[0;34m.\u001b[0m\u001b[0mitems\u001b[0m\u001b[0;34m)\u001b[0m\u001b[0;34m]\u001b[0m\u001b[0;34m\u001b[0m\u001b[0m\n",
      "\u001b[0;32m/Library/Python/2.7/site-packages/pandas/indexes/base.pyc\u001b[0m in \u001b[0;36mget_loc\u001b[0;34m(self, key, method, tolerance)\u001b[0m\n\u001b[1;32m   2134\u001b[0m                 \u001b[0;32mreturn\u001b[0m \u001b[0mself\u001b[0m\u001b[0;34m.\u001b[0m\u001b[0m_engine\u001b[0m\u001b[0;34m.\u001b[0m\u001b[0mget_loc\u001b[0m\u001b[0;34m(\u001b[0m\u001b[0mkey\u001b[0m\u001b[0;34m)\u001b[0m\u001b[0;34m\u001b[0m\u001b[0m\n\u001b[1;32m   2135\u001b[0m             \u001b[0;32mexcept\u001b[0m \u001b[0mKeyError\u001b[0m\u001b[0;34m:\u001b[0m\u001b[0;34m\u001b[0m\u001b[0m\n\u001b[0;32m-> 2136\u001b[0;31m                 \u001b[0;32mreturn\u001b[0m \u001b[0mself\u001b[0m\u001b[0;34m.\u001b[0m\u001b[0m_engine\u001b[0m\u001b[0;34m.\u001b[0m\u001b[0mget_loc\u001b[0m\u001b[0;34m(\u001b[0m\u001b[0mself\u001b[0m\u001b[0;34m.\u001b[0m\u001b[0m_maybe_cast_indexer\u001b[0m\u001b[0;34m(\u001b[0m\u001b[0mkey\u001b[0m\u001b[0;34m)\u001b[0m\u001b[0;34m)\u001b[0m\u001b[0;34m\u001b[0m\u001b[0m\n\u001b[0m\u001b[1;32m   2137\u001b[0m \u001b[0;34m\u001b[0m\u001b[0m\n\u001b[1;32m   2138\u001b[0m         \u001b[0mindexer\u001b[0m \u001b[0;34m=\u001b[0m \u001b[0mself\u001b[0m\u001b[0;34m.\u001b[0m\u001b[0mget_indexer\u001b[0m\u001b[0;34m(\u001b[0m\u001b[0;34m[\u001b[0m\u001b[0mkey\u001b[0m\u001b[0;34m]\u001b[0m\u001b[0;34m,\u001b[0m \u001b[0mmethod\u001b[0m\u001b[0;34m=\u001b[0m\u001b[0mmethod\u001b[0m\u001b[0;34m,\u001b[0m \u001b[0mtolerance\u001b[0m\u001b[0;34m=\u001b[0m\u001b[0mtolerance\u001b[0m\u001b[0;34m)\u001b[0m\u001b[0;34m\u001b[0m\u001b[0m\n",
      "\u001b[0;32mpandas/index.pyx\u001b[0m in \u001b[0;36mpandas.index.IndexEngine.get_loc (pandas/index.c:4443)\u001b[0;34m()\u001b[0m\n",
      "\u001b[0;32mpandas/index.pyx\u001b[0m in \u001b[0;36mpandas.index.IndexEngine.get_loc (pandas/index.c:4289)\u001b[0;34m()\u001b[0m\n",
      "\u001b[0;32mpandas/src/hashtable_class_helper.pxi\u001b[0m in \u001b[0;36mpandas.hashtable.PyObjectHashTable.get_item (pandas/hashtable.c:13733)\u001b[0;34m()\u001b[0m\n",
      "\u001b[0;32mpandas/src/hashtable_class_helper.pxi\u001b[0m in \u001b[0;36mpandas.hashtable.PyObjectHashTable.get_item (pandas/hashtable.c:13687)\u001b[0;34m()\u001b[0m\n",
      "\u001b[0;31mKeyError\u001b[0m: 'unixReviewTime'"
     ]
    }
   ],
   "source": [
    "df['unixReviewTime'] = pd.to_datetime(df['unixReviewTime'],unit='s')\n",
    "df.rename(columns={'unixReviewTime': 'ReviewTime', 'asin': 'product'}, inplace=True)\n",
    "df = df.drop('reviewTime',1)\n",
    "df.head()"
   ]
  },
  {
   "cell_type": "code",
   "execution_count": 16,
   "metadata": {
    "collapsed": false
   },
   "outputs": [
    {
     "name": "stdout",
     "output_type": "stream",
     "text": [
      "Number of unique products = 8713\n",
      "Number of unique users = 14681\n",
      "Number of ratings = 151254\n"
     ]
    }
   ],
   "source": [
    "number_of_unique_products = len(df['product'].unique())\n",
    "number_of_unique_users = len(df['reviewerID'].unique())\n",
    "number_of_ratings = len(df)\n",
    "print \"Number of unique products =\", number_of_unique_products\n",
    "print \"Number of unique users =\", number_of_unique_users\n",
    "print \"Number of ratings =\", number_of_ratings"
   ]
  },
  {
   "cell_type": "code",
   "execution_count": 23,
   "metadata": {
    "collapsed": false
   },
   "outputs": [
    {
     "name": "stdout",
     "output_type": "stream",
     "text": [
      "Mean rating = 4.24304150634\n",
      "Median rating = 5.0\n"
     ]
    },
    {
     "data": {
      "image/png": "[encoded data removed]",
      "text/plain": [
       "<matplotlib.figure.Figure at 0x114571110>"
      ]
     },
     "metadata": {},
     "output_type": "display_data"
    }
   ],
   "source": [
    "fig = plt.figure(figsize=(12,5))\n",
    "ax = fig.add_subplot(121)\n",
    "ax.hist(df['overall'], bins=[0.9, 1.1, 1.9, 2.1, 2.9, 3.1, 3.9, 4.1, 4.9, 5.1])\n",
    "ax.set_xlabel('product rating', fontsize=15)\n",
    "\n",
    "mean_rating = df['overall'].mean()\n",
    "print \"Mean rating =\", mean_rating\n",
    "median_rating = df['overall'].median()\n",
    "print \"Median rating =\", median_rating\n",
    "\n",
    "# mean ratings from each user\n",
    "mean_rating_of_user = df.groupby('reviewerID').apply(lambda x: x['overall'].mean())\n",
    "\n",
    "#fig = plt.figure(figsize=(6,5))\n",
    "ax = fig.add_subplot(122)\n",
    "ax.hist(mean_rating_of_user)\n",
    "ax.set_xlabel('mean rating given by each user', fontsize=15)\n",
    "plt.tight_layout()\n",
    "plt.show()"
   ]
  },
  {
   "cell_type": "markdown",
   "metadata": {},
   "source": [
    "Looks like the distribution is highly skewed towards very positive reviews, which is a well known effect with ratings - unless the customer is highly dissatisfied with a product they will give it a \"5\". "
   ]
  },
  {
   "cell_type": "code",
   "execution_count": 24,
   "metadata": {
    "collapsed": false
   },
   "outputs": [],
   "source": [
    "test_data = df.groupby('reviewerID', as_index=False).apply(lambda x: x.loc[np.random.choice(x.index, 1, replace=False),:])"
   ]
  },
  {
   "cell_type": "code",
   "execution_count": 25,
   "metadata": {
    "collapsed": false
   },
   "outputs": [],
   "source": [
    "l1 = [x[1] for x in test_data.index.tolist()]\n"
   ]
  },
  {
   "cell_type": "code",
   "execution_count": 26,
   "metadata": {
    "collapsed": true
   },
   "outputs": [],
   "source": [
    "train_data = df.drop(df.index[l1]).dropna()"
   ]
  },
  {
   "cell_type": "code",
   "execution_count": 27,
   "metadata": {
    "collapsed": false
   },
   "outputs": [],
   "source": [
    "train_data['reviewerID'] = train_data['reviewerID'].astype(\"category\")\n",
    "train_data['product'] = train_data['product'].astype(\"category\")"
   ]
  },
  {
   "cell_type": "code",
   "execution_count": 61,
   "metadata": {
    "collapsed": false
   },
   "outputs": [
    {
     "name": "stdout",
     "output_type": "stream",
     "text": [
      "Unique users: 14679\n",
      "Unique products: 8711\n"
     ]
    }
   ],
   "source": [
    "print \"Unique users: %s\" % (len(train_data['reviewerID'].unique()))\n",
    "print \"Unique products: %s\" % (len(train_data['product'].unique()))\n",
    " \n",
    "# create a sparse matrix of all the artist/user/play triples\n",
    "reviews_matrix = csc_matrix((train_data['overall'].astype(float), \n",
    "                   (train_data['reviewerID'].cat.codes,\n",
    "                    train_data['product'].cat.codes \n",
    "                    )))  "
   ]
  },
  {
   "cell_type": "markdown",
   "metadata": {},
   "source": [
    "# Most basic recommendation: mean rating [benchmark]\n",
    "\n",
    "In order to see how good our recommendations are we first need to have a benchmark to which we can compare their results. Comparing it against zero would not be appropriate here, since it is not the most common rating as we saw in the histogram above. The most common rating would be the median, which in the case of this particular dataset is different from the mean:\n"
   ]
  },
  {
   "cell_type": "code",
   "execution_count": 63,
   "metadata": {
    "collapsed": false
   },
   "outputs": [
    {
     "name": "stdout",
     "output_type": "stream",
     "text": [
      " Mean rating = 4.24205800339\n",
      "Median rating = 5.0\n"
     ]
    }
   ],
   "source": [
    "mean_rating_train = train_data['overall'].mean()\n",
    "median_rating_train = train_data['overall'].median()\n",
    "print \"Mean rating =\", mean_rating_train\n",
    "print \"Median rating =\", median_rating_train"
   ]
  },
  {
   "cell_type": "markdown",
   "metadata": {},
   "source": [
    "The distribution of ratings is highly skewed to the right. Most users when asked to rate the item give it the maximum rating, which is an interesting psychological phenomenon. Apparently, maximum rating is the baseline from which users diverge only when there is something clearly wrong with the product. Taking this into account when relying on statistics which require a normal distribution is essential. For this reason, when designing a survey, one might choose to scale the possible range of responses such that the baseline is 0 by asking participants to give an answer from -2 (negative feedback) to 2 (positive feedback). But this is not the place to elaborate on that. If interested, read more about the issues around Likert scale in psychometrics:-)."
   ]
  },
  {
   "cell_type": "code",
   "execution_count": 64,
   "metadata": {
    "collapsed": false
   },
   "outputs": [
    {
     "name": "stdout",
     "output_type": "stream",
     "text": [
      "Root-mean-square error = 1.09\n"
     ]
    }
   ],
   "source": [
    "rmse_benchmark = np.sqrt(pow(train_data['overall']-mean_rating_train, 2).mean())\n",
    "print \"Root-mean-square error = {:4.2f}\".format(rmse_benchmark)"
   ]
  },
  {
   "cell_type": "markdown",
   "metadata": {},
   "source": [
    "Let's see how the RMSE changes when we use the median instead of the mean:"
   ]
  },
  {
   "cell_type": "code",
   "execution_count": 65,
   "metadata": {
    "collapsed": false
   },
   "outputs": [
    {
     "name": "stdout",
     "output_type": "stream",
     "text": [
      "Root-mean-square error for median = 1.33\n"
     ]
    }
   ],
   "source": [
    "rmse_benchmark_median = np.sqrt(pow(train_data['overall']-median_rating_train, 2).mean())\n",
    "print \"Root-mean-square error for median = {:4.2f}\".format(rmse_benchmark_median)"
   ]
  },
  {
   "cell_type": "markdown",
   "metadata": {},
   "source": [
    "It's actually bigger, so let's stick to the mean as a benchmark. Next, we'll calculate how similar users are similar to each other using normalized dot product, or  <a href=“https://en.wikipedia.org/wiki/Cosine_similarity“>cosine similarity</a>. \n",
    "\n",
    "# A bit fancier recommendation: look for the most similar user with cosine similarit and take their rating\n",
    "\n",
    "The cosine similarity between user $u$ and user $v$ is the normalized dot product of their row vectors, ($\\textbf{r}_{u}$ and $\\textbf{r}_{v}$ respectively) in the rating matrix $\\textbf{R}$,\n",
    "\n",
    "$$ s(u,v) = \\frac{\\textbf{r}_{u} \\cdot \\textbf{r}_{v}}{ \\Vert \\textbf{r}_{u} \\Vert \\Vert \\textbf{r}_{v} \\Vert} $$"
   ]
  },
  {
   "cell_type": "code",
   "execution_count": 66,
   "metadata": {
    "collapsed": false
   },
   "outputs": [
    {
     "data": {
      "text/plain": [
       "(14679, 14679)"
      ]
     },
     "execution_count": 66,
     "metadata": {},
     "output_type": "execute_result"
    }
   ],
   "source": [
    "# Calculate the similarity score between users\n",
    "user_user_similarity = cosine_similarity(reviews_matrix)\n",
    "user_user_similarity.shape"
   ]
  },
  {
   "cell_type": "code",
   "execution_count": 71,
   "metadata": {
    "collapsed": false
   },
   "outputs": [
    {
     "name": "stdout",
     "output_type": "stream",
     "text": [
      "Failed to predict  5  ratings\n",
      "Mean square error from cosine similarity is  1.24669185158\n",
      "Benchmark is  1.08761720681\n"
     ]
    }
   ],
   "source": [
    "sqdiffs = 0\n",
    "num_preds = 0\n",
    "cnt_no_other_ratings = 0\n",
    "\n",
    "# for each user\n",
    "for user_i, non_zero_entries in enumerate(reviews_matrix):\n",
    "\n",
    "    for product in non_zero_entries.indices:\n",
    "        \n",
    "        # all users that have rated imovie (includes user of interest)\n",
    "        i_has_rated = reviews_matrix[:,product].indices\n",
    "        \n",
    "        # remove the current user \n",
    "        iremove = np.argmin(abs(i_has_rated - user_i)) \n",
    "        i_others_have_rated = np.delete(i_has_rated, iremove)\n",
    "        \n",
    "        try:\n",
    "            # find most similar user that has also rated imovie to current user\n",
    "            i_most_sim = np.argmax(user_user_similarity[user_i, i_others_have_rated])\n",
    "        except:\n",
    "            cnt_no_other_ratings += 1\n",
    "            continue\n",
    "        \n",
    "        # prediction error\n",
    "        predicted_rating = reviews_matrix[i_others_have_rated[i_most_sim], product]\n",
    "        \n",
    "        actual_rating = reviews_matrix[user_i, product]\n",
    "        \n",
    "        sqdiffs += pow(predicted_rating-actual_rating, 2.)\n",
    "        num_preds += 1\n",
    "        \n",
    "rmse_cossim = np.sqrt(sqdiffs/num_preds)   \n",
    "\n",
    "print \"Failed to predict \", cnt_no_other_ratings, \" ratings\"\n",
    "print \"Mean square error from cosine similarity is \", str(rmse_cossim)\n",
    "print \"Benchmark is \", str(rmse_benchmark)"
   ]
  },
  {
   "cell_type": "markdown",
   "metadata": {},
   "source": [
    "# Even fancier method: take into account all users who rated the product but weight their ratings by how similar they are to you "
   ]
  },
  {
   "cell_type": "code",
   "execution_count": 73,
   "metadata": {
    "collapsed": false
   },
   "outputs": [
    {
     "name": "stdout",
     "output_type": "stream",
     "text": [
      "5 movies had only one user rating\n",
      "Number of predictions made = 135199\n",
      "Mean root mean square error from weighted method is = 1.04478394838\n",
      "For comparison, mean root mean square error from cosine similarity is = 1.24669185158\n",
      "And the benchmark is = 1.08761720681\n"
     ]
    }
   ],
   "source": [
    "sqdiffs = 0\n",
    "num_preds = 0\n",
    "\n",
    "# to protect against divide by zero issues\n",
    "eps = 1e-6\n",
    "\n",
    "cnt_no_sims = 0\n",
    "\n",
    "# for each user\n",
    "for user_i, non_zero_entries in enumerate(reviews_matrix):\n",
    "    \n",
    "    # for each rated movie: find users who HAVE ALSO rated this movie\n",
    "    for product in non_zero_entries.indices:\n",
    "                \n",
    "        # all users that have rated imovie (includes user of interest)\n",
    "        i_has_rated = reviews_matrix[:,product].indices\n",
    "        \n",
    "        # remove the current user \n",
    "        #print i_has_rated, user_i\n",
    "        iremove = np.argmin(abs(i_has_rated - user_i)) \n",
    "        i_others_have_rated = np.delete(i_has_rated, iremove)\n",
    "        \n",
    "        \n",
    "        # rating is weighted sum of all ratings, weights are cosine sims\n",
    "        ratings = reviews_matrix[i_others_have_rated, product]\n",
    "        sims = user_user_similarity[user_i, i_others_have_rated]\n",
    "        \n",
    "        \n",
    "        norm = np.sum(sims) # calculate the weighting parameter\n",
    "        \n",
    "        if norm==0:\n",
    "            cnt_no_sims += 1\n",
    "            norm = eps\n",
    "        \n",
    "        predicted_rating = np.sum(np.multiply(ratings.A.T, sims))/norm\n",
    "        \n",
    "        # prediction error\n",
    "        actual_rating = reviews_matrix[user_i, product]\n",
    "        \n",
    "        sqdiffs += pow(predicted_rating-actual_rating, 2.)\n",
    "        num_preds += 1\n",
    "        \n",
    "\n",
    "rmse_cossim_weighted = np.sqrt(sqdiffs/num_preds)\n",
    "\n",
    "print cnt_no_sims, \"movies had only one user rating\" \n",
    "print \"Number of predictions made =\", num_preds\n",
    "print \"Mean root mean square error from weighted method is =\", rmse_cossim_weighted\n",
    "print \"For comparison, mean root mean square error from cosine similarity is =\", rmse_cossim\n",
    "print \"And the benchmark is =\", str(rmse_benchmark)"
   ]
  },
  {
   "cell_type": "markdown",
   "metadata": {},
   "source": [
    "Great! Our predictions have improved. \n",
    "\n",
    "Another improvement we could introduce is to take into account only *n* most similar users - then our predictions should be more accurate. This will improve our predictions only for products which have a variety of users rating them (so some of them will be similar to each other, and some will not). On average, however, our predictions should improve."
   ]
  },
  {
   "cell_type": "code",
   "execution_count": 110,
   "metadata": {
    "collapsed": false
   },
   "outputs": [],
   "source": [
    "def rmse_topN(topN):\n",
    "    \"\"\"Return the root-mean-square-error given value topN\n",
    "       for using the 'top N' most similar users in predicting\n",
    "       the rating\n",
    "    \"\"\"\n",
    "    sqdiffs = 0\n",
    "    num_preds = 0\n",
    "\n",
    "    # to protect against divide by zero issues\n",
    "    eps = 1e-6\n",
    "\n",
    "    cnt_no_sims = 0\n",
    "    # for each user\n",
    "    for user_i, non_zero_entries in enumerate(reviews_matrix):\n",
    "\n",
    "        # for each rated movie: find users who HAVE ALSO rated this movie\n",
    "        for product in non_zero_entries.indices:\n",
    "\n",
    "            # all users that have rated imovie (includes user of interest)\n",
    "            i_has_rated = reviews_matrix[:,product].indices\n",
    "\n",
    "            # remove the current user \n",
    "            #print i_has_rated, user_i\n",
    "            iremove = np.argmin(abs(i_has_rated - user_i)) \n",
    "            i_others_have_rated = np.delete(i_has_rated, iremove)\n",
    "\n",
    "\n",
    "            # rating is weighted sum of all ratings, weights are cosine sims\n",
    "            ratings = reviews_matrix[i_others_have_rated, product].A\n",
    "            sims = user_user_similarity[user_i, i_others_have_rated]\n",
    "            \n",
    "            #choose top N most similar users\n",
    "            most_similar_users = sims[np.argsort(sims*-1)][:topN]\n",
    "            most_similar_ratings = ratings[np.argsort(sims*-1)][:topN]\n",
    "\n",
    "\n",
    "            norm = np.sum(most_similar_users)\n",
    "            if norm==0:\n",
    "                cnt_no_sims += 1\n",
    "                norm = eps\n",
    "\n",
    "            predicted_rating = np.sum(np.multiply(most_similar_ratings.T, most_similar_users))/norm\n",
    "\n",
    "            # prediction error\n",
    "            actual_rating = reviews_matrix[user_i, product]\n",
    "\n",
    "            sqdiffs += pow(predicted_rating-actual_rating, 2.)\n",
    "            num_preds += 1\n",
    "\n",
    "\n",
    "    rmse_cossim = np.sqrt(sqdiffs/num_preds)\n",
    "    \n",
    "    print \"Using top\", topN , \"most similar users to predict rating\"\n",
    "    print \"Number of predictions made =\", num_preds\n",
    "    print \"Root mean square error =\", rmse_cossim , '\\n'\n",
    "    return rmse_cossim\n",
    "\n"
   ]
  },
  {
   "cell_type": "markdown",
   "metadata": {},
   "source": [
    "We can also create a pipeline to figure out what number of top *n* similar users works best for our particular dataset:"
   ]
  },
  {
   "cell_type": "code",
   "execution_count": 112,
   "metadata": {
    "collapsed": false
   },
   "outputs": [
    {
     "name": "stdout",
     "output_type": "stream",
     "text": [
      "Using top 2 most similar users to predict rating\n",
      "Number of predictions made = 135232\n",
      "Root mean square error = 1.12168067488 \n",
      "\n",
      "Using top 5 most similar users to predict rating\n",
      "Number of predictions made = 135232\n",
      "Root mean square error = 1.0567853148 \n",
      "\n",
      "Using top 10 most similar users to predict rating\n",
      "Number of predictions made = 135232\n",
      "Root mean square error = 1.03886793899 \n",
      "\n",
      "Using top 20 most similar users to predict rating\n",
      "Number of predictions made = 135232\n",
      "Root mean square error = 1.03366155368 \n",
      "\n",
      "Using top 30 most similar users to predict rating\n",
      "Number of predictions made = 135232\n",
      "Root mean square error = 1.03256664708 \n",
      "\n",
      "Using top 50 most similar users to predict rating\n",
      "Number of predictions made = 135232\n",
      "Root mean square error = 1.03220140086 \n",
      "\n"
     ]
    }
   ],
   "source": [
    "topN_trials = [2, 5, 10, 20, 30, 50]\n",
    "rmse_results = []\n",
    "for topN in topN_trials:\n",
    "    rmse_results.append(rmse_topN(topN))"
   ]
  },
  {
   "cell_type": "code",
   "execution_count": 115,
   "metadata": {
    "collapsed": false
   },
   "outputs": [
    {
     "data": {
      "text/plain": [
       "<matplotlib.legend.Legend at 0x1186e83d0>"
      ]
     },
     "execution_count": 115,
     "metadata": {},
     "output_type": "execute_result"
    },
    {
     "data": {
      "image/png": "[encoded data removed]",
      "text/plain": [
       "<matplotlib.figure.Figure at 0x117341790>"
      ]
     },
     "metadata": {},
     "output_type": "display_data"
    }
   ],
   "source": [
    "fig = plt.figure(figsize=(7,7))\n",
    "ax = fig.add_subplot(111)\n",
    "ax.plot(topN_trials, rmse_results, label='using top N')\n",
    "xlims = ax.get_xlim()\n",
    "ax.plot(xlims, [rmse_benchmark, rmse_benchmark], color='black', \n",
    "        linestyle='dotted', label='benchmark')\n",
    "ax.plot(xlims, [rmse_cossim, rmse_cossim], color='blue', linestyle='dotted',\n",
    "        label='using all')\n",
    "\n",
    "ax.set_xlabel('use top N most similar users', fontsize=15)\n",
    "ax.set_ylabel('RMSE', fontsize=15)\n",
    "handles, labels = ax.get_legend_handles_labels()\n",
    "ax.legend(handles, labels, fontsize=15)"
   ]
  },
  {
   "cell_type": "markdown",
   "metadata": {},
   "source": [
    "Visual inspection suggests that using top 10 similar users already gives us a very good RMSE (1.04), and increasing the *n* twice to 20 gives us only marginal decrease in RMSE, so in this particular case it would make sense to stick to *n* = 10. "
   ]
  },
  {
   "cell_type": "code",
   "execution_count": null,
   "metadata": {
    "collapsed": true
   },
   "outputs": [],
   "source": []
  }
 ],
 "metadata": {
  "kernelspec": {
   "display_name": "Python 2",
   "language": "python",
   "name": "python2"
  },
  "language_info": {
   "codemirror_mode": {
    "name": "ipython",
    "version": 2
   },
   "file_extension": ".py",
   "mimetype": "text/x-python",
   "name": "python",
   "nbconvert_exporter": "python",
   "pygments_lexer": "ipython2",
   "version": "2.7.10"
  }
 },
 "nbformat": 4,
 "nbformat_minor": 0
}
