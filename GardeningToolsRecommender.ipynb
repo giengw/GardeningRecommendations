{
 "cells": [
  {
   "cell_type": "markdown",
   "metadata": {},
   "source": [
    "# Collaborative filtering explained using Amazon Reviews dataset"
   ]
  },
  {
   "cell_type": "code",
   "execution_count": 27,
   "metadata": {
    "collapsed": false
   },
   "outputs": [],
   "source": [
    "import os\n",
    "import pandas as pd\n",
    "import math\n",
    "import gzip\n",
    "import numpy as np\n",
    "import scipy.stats as stats\n",
    "from scipy.sparse import csc_matrix, csr_matrix\n",
    "import matplotlib.pyplot as plt\n",
    "from sklearn.metrics.pairwise import cosine_similarity\n",
    "from pyspark.mllib.recommendation import ALS, MatrixFactorizationModel, Rating\n",
    "import seaborn as sns; sns.set(style=\"white\", color_codes=True)\n",
    "import warnings \n",
    "\n",
    "%matplotlib inline\n",
    "warnings.filterwarnings(\"ignore\")"
   ]
  },
  {
   "cell_type": "code",
   "execution_count": 36,
   "metadata": {
    "collapsed": true
   },
   "outputs": [],
   "source": [
    "def parse(path):\n",
    "  g = gzip.open(path, 'rb')\n",
    "  for l in g:\n",
    "    yield eval(l)\n",
    "\n",
    "def getDF(path):\n",
    "  i = 0\n",
    "  df = {}\n",
    "  for d in parse(path):\n",
    "    df[i] = d\n",
    "    i += 1\n",
    "  return pd.DataFrame.from_dict(df, orient='index')\n",
    "\n",
    "df = getDF('reviews_Patio_Lawn_and_Garden_5.json.gz')\n"
   ]
  },
  {
   "cell_type": "code",
   "execution_count": 37,
   "metadata": {
    "collapsed": false
   },
   "outputs": [
    {
     "data": {
      "text/html": [
       "<div>\n",
       "<table border=\"1\" class=\"dataframe\">\n",
       "  <thead>\n",
       "    <tr style=\"text-align: right;\">\n",
       "      <th></th>\n",
       "      <th>reviewerID</th>\n",
       "      <th>product</th>\n",
       "      <th>reviewerName</th>\n",
       "      <th>helpful</th>\n",
       "      <th>ReviewTime</th>\n",
       "      <th>reviewText</th>\n",
       "      <th>overall</th>\n",
       "      <th>summary</th>\n",
       "    </tr>\n",
       "  </thead>\n",
       "  <tbody>\n",
       "    <tr>\n",
       "      <th>0</th>\n",
       "      <td>A1JZFGZEZVWQPY</td>\n",
       "      <td>B00002N674</td>\n",
       "      <td>Carter H \"1amazonreviewer@gmail . com\"</td>\n",
       "      <td>[4, 4]</td>\n",
       "      <td>2011-06-21</td>\n",
       "      <td>Good USA company that stands behind their prod...</td>\n",
       "      <td>4.0</td>\n",
       "      <td>Great Hoses</td>\n",
       "    </tr>\n",
       "    <tr>\n",
       "      <th>1</th>\n",
       "      <td>A32JCI4AK2JTTG</td>\n",
       "      <td>B00002N674</td>\n",
       "      <td>Darryl Bennett \"Fuzzy342\"</td>\n",
       "      <td>[0, 0]</td>\n",
       "      <td>2014-06-09</td>\n",
       "      <td>This is a high quality 8 ply hose. I have had ...</td>\n",
       "      <td>5.0</td>\n",
       "      <td>Gilmour 10-58050 8-ply Flexogen Hose 5/8-Inch ...</td>\n",
       "    </tr>\n",
       "    <tr>\n",
       "      <th>2</th>\n",
       "      <td>A3N0P5AAMP6XD2</td>\n",
       "      <td>B00002N674</td>\n",
       "      <td>H B</td>\n",
       "      <td>[2, 3]</td>\n",
       "      <td>2012-05-05</td>\n",
       "      <td>It's probably one of the best hoses I've ever ...</td>\n",
       "      <td>4.0</td>\n",
       "      <td>Very satisfied!</td>\n",
       "    </tr>\n",
       "    <tr>\n",
       "      <th>3</th>\n",
       "      <td>A2QK7UNJ857YG</td>\n",
       "      <td>B00002N674</td>\n",
       "      <td>Jason</td>\n",
       "      <td>[0, 0]</td>\n",
       "      <td>2013-07-15</td>\n",
       "      <td>I probably should have bought something a bit ...</td>\n",
       "      <td>5.0</td>\n",
       "      <td>Very high quality</td>\n",
       "    </tr>\n",
       "    <tr>\n",
       "      <th>4</th>\n",
       "      <td>AS0CYBAN6EM06</td>\n",
       "      <td>B00002N674</td>\n",
       "      <td>jimmy</td>\n",
       "      <td>[1, 1]</td>\n",
       "      <td>2013-08-05</td>\n",
       "      <td>I bought three of these 5/8-inch Flexogen hose...</td>\n",
       "      <td>5.0</td>\n",
       "      <td>Good Hoses</td>\n",
       "    </tr>\n",
       "  </tbody>\n",
       "</table>\n",
       "</div>"
      ],
      "text/plain": [
       "       reviewerID     product                            reviewerName helpful  \\\n",
       "0  A1JZFGZEZVWQPY  B00002N674  Carter H \"1amazonreviewer@gmail . com\"  [4, 4]   \n",
       "1  A32JCI4AK2JTTG  B00002N674               Darryl Bennett \"Fuzzy342\"  [0, 0]   \n",
       "2  A3N0P5AAMP6XD2  B00002N674                                     H B  [2, 3]   \n",
       "3   A2QK7UNJ857YG  B00002N674                                   Jason  [0, 0]   \n",
       "4   AS0CYBAN6EM06  B00002N674                                   jimmy  [1, 1]   \n",
       "\n",
       "  ReviewTime                                         reviewText  overall  \\\n",
       "0 2011-06-21  Good USA company that stands behind their prod...      4.0   \n",
       "1 2014-06-09  This is a high quality 8 ply hose. I have had ...      5.0   \n",
       "2 2012-05-05  It's probably one of the best hoses I've ever ...      4.0   \n",
       "3 2013-07-15  I probably should have bought something a bit ...      5.0   \n",
       "4 2013-08-05  I bought three of these 5/8-inch Flexogen hose...      5.0   \n",
       "\n",
       "                                             summary  \n",
       "0                                        Great Hoses  \n",
       "1  Gilmour 10-58050 8-ply Flexogen Hose 5/8-Inch ...  \n",
       "2                                    Very satisfied!  \n",
       "3                                  Very high quality  \n",
       "4                                         Good Hoses  "
      ]
     },
     "execution_count": 37,
     "metadata": {},
     "output_type": "execute_result"
    }
   ],
   "source": [
    "df['unixReviewTime'] = pd.to_datetime(df['unixReviewTime'],unit='s') #changing time format\n",
    "df.rename(columns={'unixReviewTime': 'ReviewTime', 'asin': 'product'}, inplace=True)\n",
    "df = df.drop('reviewTime',1)\n",
    "df.head(5)"
   ]
  },
  {
   "cell_type": "code",
   "execution_count": 22,
   "metadata": {
    "collapsed": false
   },
   "outputs": [
    {
     "name": "stdout",
     "output_type": "stream",
     "text": [
      "Number of unique products = 962\n",
      "Number of unique users = 1686\n",
      "Number of ratings = 13272\n"
     ]
    }
   ],
   "source": [
    "number_of_unique_products = len(df['product'].unique())\n",
    "number_of_unique_users = len(df['reviewerID'].unique())\n",
    "number_of_ratings = len(df)\n",
    "print \"Number of unique products =\", number_of_unique_products\n",
    "print \"Number of unique users =\", number_of_unique_users\n",
    "print \"Number of ratings =\", number_of_ratings"
   ]
  },
  {
   "cell_type": "code",
   "execution_count": 31,
   "metadata": {
    "collapsed": false
   },
   "outputs": [
    {
     "data": {
      "image/png": "[encoded data removed]",
      "text/plain": [
       "<matplotlib.figure.Figure at 0x1174cc250>"
      ]
     },
     "metadata": {},
     "output_type": "display_data"
    }
   ],
   "source": [
    "fig = plt.figure(figsize=(10,5))\n",
    "ax = fig.add_subplot(121)\n",
    "ax.hist(df['overall'], bins=[0.9, 1.1, 1.9, 2.1, 2.9, 3.1, 3.9, 4.1, 4.9, 5.1])\n",
    "ax.set_xlabel('product rating', fontsize=15)\n",
    "\n",
    "# mean ratings from each user\n",
    "mean_rating_of_user = df.groupby('reviewerID').apply(lambda x: x['overall'].mean())\n",
    "ax = fig.add_subplot(122)\n",
    "ax.hist(mean_rating_of_user)\n",
    "ax.set_xlabel('mean rating given by each user', fontsize=15)\n",
    "plt.tight_layout()\n",
    "plt.show()"
   ]
  },
  {
   "cell_type": "markdown",
   "metadata": {},
   "source": [
    "Looks like the distribution is highly skewed towards very positive reviews, which is a well known effect with ratings - unless the customer is highly dissatisfied with a product they will give it a \"5\". \n",
    "\n",
    "## Preparing the data for ML\n",
    "\n",
    "In the interest of space, I will turn the user-product matrix into a <a href=\"https://docs.scipy.org/doc/scipy/reference/generated/scipy.sparse.csc_matrix.html\">*compressed sparse matrix*</a>. Since most of the user-product matrix contains empty entries (the majority of users has not evaluated all products and most products have not been evaluated by a lot of users) it makes sense to store them in a way that optimizes memory usage. __Scipy's sparse matrices__ module does it, and it also includes methods supporting basic arithmetic operations. Importantly, depending on the operations you will perform (row- or columnwise) you should choose the appropriate storage format (<code>csr_matrix</code> or <code>csc_matrix</code>, respectively). I chose the former, since most slicing happens row-wise -- but again, this code is for learning purposes so it is not optimized for speed or storage."
   ]
  },
  {
   "cell_type": "code",
   "execution_count": 24,
   "metadata": {
    "collapsed": false
   },
   "outputs": [],
   "source": [
    "# first we need to turn user and product identifying\n",
    "# values into categorical variables\n",
    "['reviewerID'] = df['reviewerID'].astype(\"category\")\n",
    "df['product'] = df['product'].astype(\"category\")"
   ]
  },
  {
   "cell_type": "code",
   "execution_count": 29,
   "metadata": {
    "collapsed": false
   },
   "outputs": [],
   "source": [
    "# then create a sparse matrix of all the user/product/rating triples\n",
    "reviews_matrix = csr_matrix((df['overall'].astype(float), \n",
    "                   (df['reviewerID'].cat.codes,\n",
    "                    df['product'].cat.codes \n",
    "                    )))  "
   ]
  },
  {
   "cell_type": "markdown",
   "metadata": {},
   "source": [
    "# Our benchmark and most basic recommendation\n",
    "In order to see how good our recommendations are we first need to have a benchmark to which we can compare their results. Comparing it against zero would not be appropriate here, since it is not the most common rating as we saw in the histogram above. The most common rating would be the median, which in the case of this particular dataset is different from the mean:\n"
   ]
  },
  {
   "cell_type": "code",
   "execution_count": 11,
   "metadata": {
    "collapsed": false
   },
   "outputs": [
    {
     "name": "stdout",
     "output_type": "stream",
     "text": [
      "Mean rating = 4.18020614955\n",
      "Median rating = 5.0\n"
     ]
    }
   ],
   "source": [
    "mean_rating_train = train_data['overall'].mean()\n",
    "median_rating_train = train_data['overall'].median()\n",
    "print \"Mean rating =\", mean_rating_train\n",
    "print \"Median rating =\", median_rating_train"
   ]
  },
  {
   "cell_type": "markdown",
   "metadata": {},
   "source": [
    "The distribution of ratings is highly skewed to the right. Most users when asked to rate the item give it the maximum rating, which is an interesting psychological phenomenon. Apparently, maximum rating is the baseline from which users diverge only when there is something clearly wrong with the product. Taking this into account when relying on statistics which require a normal distribution is essential. For this reason, when designing a survey, one might choose to scale the possible range of responses such that the baseline is 0 by asking participants to give an answer from -2 (negative feedback) to 2 (positive feedback). But this is not the place to elaborate on that. If interested, read more about the issues around Likert scale in psychometrics:-)."
   ]
  },
  {
   "cell_type": "code",
   "execution_count": 12,
   "metadata": {
    "collapsed": false
   },
   "outputs": [
    {
     "name": "stdout",
     "output_type": "stream",
     "text": [
      "Root-mean-square error = 1.09\n"
     ]
    }
   ],
   "source": [
    "rmse_benchmark = np.sqrt(pow(train_data['overall']-mean_rating_train, 2).mean())\n",
    "print \"Root-mean-square error = {:4.2f}\".format(rmse_benchmark)"
   ]
  },
  {
   "cell_type": "markdown",
   "metadata": {},
   "source": [
    "Let's see how the RMSE changes when we use the median instead of the mean:"
   ]
  },
  {
   "cell_type": "code",
   "execution_count": 13,
   "metadata": {
    "collapsed": false
   },
   "outputs": [
    {
     "name": "stdout",
     "output_type": "stream",
     "text": [
      "Root-mean-square error for median = 1.36\n"
     ]
    }
   ],
   "source": [
    "rmse_benchmark_median = np.sqrt(pow(train_data['overall']-median_rating_train, 2).mean())\n",
    "print \"Root-mean-square error for median = {:4.2f}\".format(rmse_benchmark_median)"
   ]
  },
  {
   "cell_type": "markdown",
   "metadata": {},
   "source": [
    "It's actually bigger, so let's stick to the mean as a benchmark. Next, we'll calculate how similar users are similar to each other using normalized dot product, or  <a href=“https://en.wikipedia.org/wiki/Cosine_similarity“>cosine similarity</a>. \n",
    "\n",
    "# A bit fancier recommendation: look for the most similar user with cosine similarit and take their rating\n",
    "\n",
    "The cosine similarity between user $u$ and user $v$ is the normalized dot product of their row vectors, ($\\textbf{r}_{u}$ and $\\textbf{r}_{v}$ respectively) in the rating matrix $\\textbf{R}$,\n",
    "\n",
    "$$ s(u,v) = \\frac{\\textbf{r}_{u} \\cdot \\textbf{r}_{v}}{ \\Vert \\textbf{r}_{u} \\Vert \\Vert \\textbf{r}_{v} \\Vert} $$"
   ]
  },
  {
   "cell_type": "code",
   "execution_count": 14,
   "metadata": {
    "collapsed": false
   },
   "outputs": [
    {
     "data": {
      "text/plain": [
       "(1684, 1684)"
      ]
     },
     "execution_count": 14,
     "metadata": {},
     "output_type": "execute_result"
    }
   ],
   "source": [
    "# Calculate the similarity score between users\n",
    "user_user_similarity = cosine_similarity(reviews_matrix)\n",
    "user_user_similarity.shape"
   ]
  },
  {
   "cell_type": "code",
   "execution_count": 15,
   "metadata": {
    "collapsed": false
   },
   "outputs": [
    {
     "name": "stdout",
     "output_type": "stream",
     "text": [
      "Failed to predict  3  ratings\n",
      "Mean square error from cosine similarity is  1.23891326271\n",
      "Benchmark is  1.08525610344\n"
     ]
    }
   ],
   "source": [
    "sqdiffs = 0\n",
    "num_preds = 0\n",
    "cnt_no_other_ratings = 0\n",
    "\n",
    "# for each user\n",
    "for user_i, non_zero_entries in enumerate(reviews_matrix):\n",
    "\n",
    "    for product in non_zero_entries.indices:\n",
    "        \n",
    "        # all users that have rated imovie (includes user of interest)\n",
    "        i_has_rated = reviews_matrix[:,product].indices\n",
    "        \n",
    "        # remove the current user \n",
    "        iremove = np.argmin(abs(i_has_rated - user_i)) \n",
    "        i_others_have_rated = np.delete(i_has_rated, iremove)\n",
    "        \n",
    "        try:\n",
    "            # find most similar user that has also rated imovie to current user\n",
    "            i_most_sim = np.argmax(user_user_similarity[user_i, i_others_have_rated])\n",
    "        except:\n",
    "            cnt_no_other_ratings += 1\n",
    "            continue\n",
    "        \n",
    "        # prediction error\n",
    "        predicted_rating = reviews_matrix[i_others_have_rated[i_most_sim], product]\n",
    "        \n",
    "        actual_rating = reviews_matrix[user_i, product]\n",
    "        \n",
    "        sqdiffs += pow(predicted_rating-actual_rating, 2.)\n",
    "        num_preds += 1\n",
    "        \n",
    "rmse_cossim = np.sqrt(sqdiffs/num_preds)   \n",
    "\n",
    "print \"Failed to predict \", cnt_no_other_ratings, \" ratings\"\n",
    "print \"Mean square error from cosine similarity is \", str(rmse_cossim)\n",
    "print \"Benchmark is \", str(rmse_benchmark)"
   ]
  },
  {
   "cell_type": "markdown",
   "metadata": {},
   "source": [
    "# Even fancier method: take into account all users who rated the product but weight their ratings by how similar they are to you "
   ]
  },
  {
   "cell_type": "code",
   "execution_count": 16,
   "metadata": {
    "collapsed": false
   },
   "outputs": [
    {
     "name": "stdout",
     "output_type": "stream",
     "text": [
      "3 movies had only one user rating\n",
      "Number of predictions made = 11448\n",
      "Mean root mean square error from weighted method is = 1.02082452672\n",
      "For comparison, mean root mean square error from cosine similarity is = 1.23891326271\n",
      "And the benchmark is = 1.08525610344\n"
     ]
    }
   ],
   "source": [
    "sqdiffs = 0\n",
    "num_preds = 0\n",
    "\n",
    "# to protect against divide by zero issues\n",
    "eps = 1e-6\n",
    "\n",
    "cnt_no_sims = 0\n",
    "\n",
    "# for each user\n",
    "for user_i, non_zero_entries in enumerate(reviews_matrix):\n",
    "    \n",
    "    # for each rated movie: find users who HAVE ALSO rated this movie\n",
    "    for product in non_zero_entries.indices:\n",
    "                \n",
    "        # all users that have rated imovie (includes user of interest)\n",
    "        i_has_rated = reviews_matrix[:,product].indices\n",
    "        \n",
    "        # remove the current user \n",
    "        #print i_has_rated, user_i\n",
    "        iremove = np.argmin(abs(i_has_rated - user_i)) \n",
    "        i_others_have_rated = np.delete(i_has_rated, iremove)\n",
    "        \n",
    "        \n",
    "        # rating is weighted sum of all ratings, weights are cosine sims\n",
    "        ratings = reviews_matrix[i_others_have_rated, product]\n",
    "        sims = user_user_similarity[user_i, i_others_have_rated]\n",
    "        \n",
    "        \n",
    "        norm = np.sum(sims) # calculate the weighting parameter\n",
    "        \n",
    "        if norm==0:\n",
    "            cnt_no_sims += 1\n",
    "            norm = eps\n",
    "        \n",
    "        predicted_rating = np.sum(np.multiply(ratings.A.T, sims))/norm\n",
    "        \n",
    "        # prediction error\n",
    "        actual_rating = reviews_matrix[user_i, product]\n",
    "        \n",
    "        sqdiffs += pow(predicted_rating-actual_rating, 2.)\n",
    "        num_preds += 1\n",
    "        \n",
    "\n",
    "rmse_cossim_weighted = np.sqrt(sqdiffs/num_preds)\n",
    "\n",
    "print cnt_no_sims, \"movies had only one user rating\" \n",
    "print \"Number of predictions made =\", num_preds\n",
    "print \"Mean root mean square error from weighted method is =\", rmse_cossim_weighted\n",
    "print \"For comparison, mean root mean square error from cosine similarity is =\", rmse_cossim\n",
    "print \"And the benchmark is =\", str(rmse_benchmark)"
   ]
  },
  {
   "cell_type": "markdown",
   "metadata": {},
   "source": [
    "Great! Our predictions have improved. \n",
    "\n",
    "Another improvement we could introduce is to take into account only *n* most similar users - then our predictions should be more accurate. This will improve our predictions only for products which have a variety of users rating them (so some of them will be similar to each other, and some will not). On average, however, our predictions should improve."
   ]
  },
  {
   "cell_type": "code",
   "execution_count": 17,
   "metadata": {
    "collapsed": false
   },
   "outputs": [],
   "source": [
    "def rmse_topN(topN):\n",
    "    \"\"\"Return the root-mean-square-error given value topN\n",
    "       for using the 'top N' most similar users in predicting\n",
    "       the rating\n",
    "       \n",
    "       :input: int\n",
    "       :output: float\n",
    "    \"\"\"\n",
    "    sqdiffs = 0\n",
    "    num_preds = 0\n",
    "\n",
    "    # to protect against divide by zero issues\n",
    "    eps = 1e-6\n",
    "\n",
    "    cnt_no_sims = 0\n",
    "    # for each user\n",
    "    for user_i, non_zero_entries in enumerate(reviews_matrix):\n",
    "\n",
    "        # for each rated movie: find users who HAVE ALSO rated this movie\n",
    "        for product in non_zero_entries.indices:\n",
    "\n",
    "            # all users that have rated imovie (includes user of interest)\n",
    "            i_has_rated = reviews_matrix[:,product].indices\n",
    "\n",
    "            # remove the current user \n",
    "            #print i_has_rated, user_i\n",
    "            iremove = np.argmin(abs(i_has_rated - user_i)) \n",
    "            i_others_have_rated = np.delete(i_has_rated, iremove)\n",
    "\n",
    "\n",
    "            # rating is weighted sum of all ratings, weights are cosine sims\n",
    "            ratings = reviews_matrix[i_others_have_rated, product].A\n",
    "            sims = user_user_similarity[user_i, i_others_have_rated]\n",
    "            \n",
    "            #choose top N most similar users\n",
    "            most_similar_users = sims[np.argsort(sims*-1)][:topN]\n",
    "            most_similar_ratings = ratings[np.argsort(sims*-1)][:topN]\n",
    "\n",
    "\n",
    "            norm = np.sum(most_similar_users)\n",
    "            if norm==0:\n",
    "                cnt_no_sims += 1\n",
    "                norm = eps\n",
    "\n",
    "            predicted_rating = np.sum(np.multiply(most_similar_ratings.T, most_similar_users))/norm\n",
    "\n",
    "            # prediction error\n",
    "            actual_rating = reviews_matrix[user_i, product]\n",
    "\n",
    "            sqdiffs += pow(predicted_rating-actual_rating, 2.)\n",
    "            num_preds += 1\n",
    "\n",
    "\n",
    "    rmse_cossim = np.sqrt(sqdiffs/num_preds)\n",
    "    \n",
    "    print \"Using top\", topN , \"most similar users to predict rating\"\n",
    "    print \"Number of predictions made =\", num_preds\n",
    "    print \"Root mean square error =\", rmse_cossim , '\\n'\n",
    "    return rmse_cossim\n",
    "\n"
   ]
  },
  {
   "cell_type": "markdown",
   "metadata": {},
   "source": [
    "We can also create a pipeline to figure out what number of top *n* similar users works best for our particular dataset:"
   ]
  },
  {
   "cell_type": "code",
   "execution_count": 18,
   "metadata": {
    "collapsed": false
   },
   "outputs": [
    {
     "name": "stdout",
     "output_type": "stream",
     "text": [
      "Using top 2 most similar users to predict rating\n",
      "Number of predictions made = 11448\n",
      "Root mean square error = 1.12029679907 \n",
      "\n",
      "Using top 5 most similar users to predict rating\n",
      "Number of predictions made = 11448\n",
      "Root mean square error = 1.0492650652 \n",
      "\n",
      "Using top 10 most similar users to predict rating\n",
      "Number of predictions made = 11448\n",
      "Root mean square error = 1.03200786291 \n",
      "\n",
      "Using top 20 most similar users to predict rating\n",
      "Number of predictions made = 11448\n",
      "Root mean square error = 1.02548723067 \n",
      "\n",
      "Using top 30 most similar users to predict rating\n",
      "Number of predictions made = 11448\n",
      "Root mean square error = 1.02340132727 \n",
      "\n",
      "Using top 50 most similar users to predict rating\n",
      "Number of predictions made = 11448\n",
      "Root mean square error = 1.02119511305 \n",
      "\n"
     ]
    }
   ],
   "source": [
    "topN_trials = [2, 5, 10, 20, 30, 50]\n",
    "rmse_results = []\n",
    "for topN in topN_trials:\n",
    "    rmse_results.append(rmse_topN(topN))"
   ]
  },
  {
   "cell_type": "code",
   "execution_count": 20,
   "metadata": {
    "collapsed": false
   },
   "outputs": [
    {
     "data": {
      "text/plain": [
       "<matplotlib.legend.Legend at 0x11273ea50>"
      ]
     },
     "execution_count": 20,
     "metadata": {},
     "output_type": "execute_result"
    },
    {
     "data": {
      "image/png": "[encoded data removed]",
      "text/plain": [
       "<matplotlib.figure.Figure at 0x111590310>"
      ]
     },
     "metadata": {},
     "output_type": "display_data"
    }
   ],
   "source": [
    "fig = plt.figure(figsize=(7,7))\n",
    "ax = fig.add_subplot(111)\n",
    "\n",
    "ax.plot(topN_trials, rmse_results, label='Top N users', color='green')\n",
    "xlims = ax.get_xlim()\n",
    "ax.plot(xlims, [rmse_cossim, rmse_cossim], color='red', linestyle='dotted',\n",
    "        label='All users')\n",
    "ax.plot(xlims, [rmse_benchmark, rmse_benchmark], color='black', \n",
    "        linestyle='dotted', label='Benchmark: mean')\n",
    "\n",
    "ax.set_xlabel('Using top N most similar users', fontsize=15)\n",
    "ax.set_ylabel('RMSE', fontsize=15)\n",
    "handles, labels = ax.get_legend_handles_labels()\n",
    "ax.legend(handles, labels, fontsize=12)"
   ]
  },
  {
   "cell_type": "markdown",
   "metadata": {},
   "source": [
    "Visual inspection suggests that using top 5 similar users already gives us a very good RMSE (1.04), and increasing the *N* twice to 10 gives us only marginal decrease in RMSE, so in this particular case it would make sense to stick to *N* = 5. "
   ]
  },
  {
   "cell_type": "markdown",
   "metadata": {
    "collapsed": true
   },
   "source": [
    "# ALS"
   ]
  },
  {
   "cell_type": "code",
   "execution_count": 12,
   "metadata": {
    "collapsed": false
   },
   "outputs": [],
   "source": [
    "h = reviews_matrix.toarray()"
   ]
  },
  {
   "cell_type": "code",
   "execution_count": 13,
   "metadata": {
    "collapsed": false
   },
   "outputs": [
    {
     "data": {
      "text/plain": [
       "4"
      ]
     },
     "execution_count": 13,
     "metadata": {},
     "output_type": "execute_result"
    }
   ],
   "source": [
    "rdd = sc.parallelize(h)\n",
    "rdd.getNumPartitions()\n"
   ]
  },
  {
   "cell_type": "code",
   "execution_count": 14,
   "metadata": {
    "collapsed": true
   },
   "outputs": [],
   "source": [
    "ratings = rdd.map(lambda l: Rating(int(l[1]), int(l[2]), float(l[7])))"
   ]
  },
  {
   "cell_type": "code",
   "execution_count": 15,
   "metadata": {
    "collapsed": false
   },
   "outputs": [],
   "source": [
    "def ALS_Spark(iterations, rank):\n",
    "    \"\"\"\n",
    "    Function to pipeline the alternative least squares (ALS) using different parameters.\n",
    "    Returns root mean square error (RMSE). \n",
    "    \n",
    "    'Rank' is the number of latent factors in the model and 'iterations' is the number of\n",
    "    of the model. \n",
    "    \n",
    "    :input: int\n",
    "    :output: float\n",
    "\n",
    "    \"\"\"\n",
    "    rank = rank\n",
    "    numIterations = iterations\n",
    "    model = ALS.train(ratings, rank, numIterations)\n",
    "    testdata = ratings.map(lambda p: (p[0], p[1]))\n",
    "    predictions = model.predictAll(testdata).map(lambda r: ((r[0], r[1]), r[2]))\n",
    "    ratesAndPreds = ratings.map(lambda r: ((r[0], r[1]), r[2])).join(predictions)\n",
    "\n",
    "    MSE = ratesAndPreds.map(lambda r: (r[1][0] - r[1][1])**2).mean()\n",
    "    RMSE = np.sqrt(MSE)\n",
    "    print \"Using number of ranks = \", rank\n",
    "    print \"Using number of iterations = \", numIterations\n",
    "    print(\"Mean Squared Error = \" + str(MSE))\n",
    "    print \"RMSE = \", RMSE, '\\n'\n",
    "    return RMSE"
   ]
  },
  {
   "cell_type": "code",
   "execution_count": 16,
   "metadata": {
    "collapsed": false
   },
   "outputs": [
    {
     "name": "stdout",
     "output_type": "stream",
     "text": [
      "Using number of ranks =  2\n",
      "Using number of iterations =  5\n",
      "Mean Squared Error = 0.119071649662\n",
      "RMSE =  0.345067601582 \n",
      "\n",
      "Using number of ranks =  2\n",
      "Using number of iterations =  10\n",
      "Mean Squared Error = 0.119071649337\n",
      "RMSE =  0.345067601112 \n",
      "\n",
      "Using number of ranks =  2\n",
      "Using number of iterations =  20\n",
      "Mean Squared Error = 0.119071649334\n",
      "RMSE =  0.345067601107 \n",
      "\n",
      "Using number of ranks =  5\n",
      "Using number of iterations =  5\n",
      "Mean Squared Error = 0.119071649669\n",
      "RMSE =  0.345067601593 \n",
      "\n",
      "Using number of ranks =  5\n",
      "Using number of iterations =  10\n",
      "Mean Squared Error = 0.119071649334\n",
      "RMSE =  0.345067601107 \n",
      "\n",
      "Using number of ranks =  5\n",
      "Using number of iterations =  20\n",
      "Mean Squared Error = 0.119071649328\n",
      "RMSE =  0.345067601098 \n",
      "\n",
      "Using number of ranks =  10\n",
      "Using number of iterations =  5\n",
      "Mean Squared Error = 0.119071649673\n",
      "RMSE =  0.345067601599 \n",
      "\n",
      "Using number of ranks =  10\n",
      "Using number of iterations =  10\n",
      "Mean Squared Error = 0.119071649336\n",
      "RMSE =  0.345067601111 \n",
      "\n",
      "Using number of ranks =  10\n",
      "Using number of iterations =  20\n",
      "Mean Squared Error = 0.119071649334\n",
      "RMSE =  0.345067601108 \n",
      "\n",
      "Using number of ranks =  20\n",
      "Using number of iterations =  5\n",
      "Mean Squared Error = 0.119071649667\n",
      "RMSE =  0.34506760159 \n",
      "\n",
      "Using number of ranks =  20\n",
      "Using number of iterations =  10\n",
      "Mean Squared Error = 0.119071649333\n",
      "RMSE =  0.345067601106 \n",
      "\n",
      "Using number of ranks =  20\n",
      "Using number of iterations =  20\n",
      "Mean Squared Error = 0.119071649333\n",
      "RMSE =  0.345067601106 \n",
      "\n"
     ]
    }
   ],
   "source": [
    "numIterations = [5, 10, 20]\n",
    "ranks = [2,5,10,20]\n",
    "MSE_results = []\n",
    "\n",
    "for rank in ranks:\n",
    "    for iterations in numIterations:\n",
    "        MSE_results.append(ALS_Spark(iterations, rank))"
   ]
  },
  {
   "cell_type": "code",
   "execution_count": null,
   "metadata": {
    "collapsed": true
   },
   "outputs": [],
   "source": []
  }
 ],
 "metadata": {
  "kernelspec": {
   "display_name": "Python 2",
   "language": "python",
   "name": "python2"
  },
  "language_info": {
   "codemirror_mode": {
    "name": "ipython",
    "version": 2
   },
   "file_extension": ".py",
   "mimetype": "text/x-python",
   "name": "python",
   "nbconvert_exporter": "python",
   "pygments_lexer": "ipython2",
   "version": "2.7.10"
  }
 },
 "nbformat": 4,
 "nbformat_minor": 0
}
